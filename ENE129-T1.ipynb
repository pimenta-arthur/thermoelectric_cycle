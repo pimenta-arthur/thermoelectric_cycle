{
 "cells": [
  {
   "cell_type": "markdown",
   "metadata": {},
   "source": [
    "# ENE129 - T1"
   ]
  },
  {
   "cell_type": "code",
   "execution_count": 1,
   "metadata": {},
   "outputs": [],
   "source": [
    "import CoolProp\n",
    "import CoolProp.CoolProp as CP\n",
    "import numpy as np\n",
    "import pandas as pd"
   ]
  },
  {
   "cell_type": "markdown",
   "metadata": {},
   "source": [
    "## Questão 1 e 2"
   ]
  },
  {
   "cell_type": "markdown",
   "metadata": {},
   "source": [
    "## 1 Ciclo a gás "
   ]
  },
  {
   "cell_type": "markdown",
   "metadata": {},
   "source": [
    "### 1.1 Primeira lei"
   ]
  },
  {
   "cell_type": "markdown",
   "metadata": {},
   "source": [
    "#### Estado 1"
   ]
  },
  {
   "cell_type": "markdown",
   "metadata": {},
   "source": [
    "Dados fornecidos:"
   ]
  },
  {
   "cell_type": "code",
   "execution_count": 2,
   "metadata": {},
   "outputs": [],
   "source": [
    "# Pressão\n",
    "P1 = 1.013*1e5 #Pa\n",
    "# Temperatura\n",
    "T1 = 303.15 #K"
   ]
  },
  {
   "cell_type": "markdown",
   "metadata": {},
   "source": [
    "Calculos:"
   ]
  },
  {
   "cell_type": "code",
   "execution_count": 3,
   "metadata": {},
   "outputs": [],
   "source": [
    "# Entalpia\n",
    "h1 = CP.PropsSI('H', 'T', T1, 'P', P1, 'Air') #J/Kg\n",
    "# Volume específico\n",
    "v1 = 1/CP.PropsSI('D', 'T', T1, 'P', P1, 'Air') #m^3/kg\n",
    "# Entropia\n",
    "s1 = CP.PropsSI('S', 'T', T1, 'P', P1, 'Air') #J/kg*K"
   ]
  },
  {
   "cell_type": "markdown",
   "metadata": {},
   "source": [
    "#### Estado 2"
   ]
  },
  {
   "cell_type": "markdown",
   "metadata": {},
   "source": [
    "Dados fornecidos:"
   ]
  },
  {
   "cell_type": "code",
   "execution_count": 4,
   "metadata": {},
   "outputs": [],
   "source": [
    "# Pressão\n",
    "P2 = 30*1e5 #Pa\n",
    "# Rendimento isentrópico\n",
    "nc = 0.86 #compressor"
   ]
  },
  {
   "cell_type": "markdown",
   "metadata": {},
   "source": [
    "Calculos:"
   ]
  },
  {
   "cell_type": "code",
   "execution_count": 5,
   "metadata": {},
   "outputs": [],
   "source": [
    "# Isentrópico\n",
    "s2s = s1\n",
    "h2s = CP.PropsSI('H', 'P', P2, 'S', s2s, 'Air') #J/kg\n",
    "# Entalpia\n",
    "# Temos: nc = Ws/Wr = (h2s-h1)/(h2-h1)\n",
    "h2 = (h2s-h1/nc)+h1 #J/Kg\n",
    "# Temperatura\n",
    "T2 = CP.PropsSI('T', 'P', P2, 'H', h2, 'Air') #K\n",
    "# Entropia\n",
    "s2 = CP.PropsSI('S', 'P', P2, 'H', h2, 'Air') #J/kg*K\n",
    "# Volume específico\n",
    "v2 = 1/CP.PropsSI('D', 'P', P2, 'H', h2, 'Air') #m^3/kg"
   ]
  },
  {
   "cell_type": "markdown",
   "metadata": {},
   "source": [
    "####  Estado 3"
   ]
  },
  {
   "cell_type": "markdown",
   "metadata": {},
   "source": [
    "Dados fornecidos:"
   ]
  },
  {
   "cell_type": "code",
   "execution_count": 6,
   "metadata": {},
   "outputs": [],
   "source": [
    "# Temperatura\n",
    "T3 = 1573.15 #K\n",
    "# Pressão constante no aquecimento\n",
    "P3 = P2 #Pa"
   ]
  },
  {
   "cell_type": "markdown",
   "metadata": {},
   "source": [
    "Calculos:"
   ]
  },
  {
   "cell_type": "code",
   "execution_count": 7,
   "metadata": {},
   "outputs": [],
   "source": [
    "# Entalpia\n",
    "h3 = CP.PropsSI('H', 'T', T3, 'P', P3, 'Air') #J/Kg\n",
    "# Entropia\n",
    "s3 = CP.PropsSI('S', 'T', T3, 'P', P3, 'Air') #J/kg*K\n",
    "# Volume específico\n",
    "v3 = 1/CP.PropsSI('D', 'T', T3, 'P', P3, 'Air') #m^3/kg"
   ]
  },
  {
   "cell_type": "markdown",
   "metadata": {},
   "source": [
    "####  Estado 4"
   ]
  },
  {
   "cell_type": "markdown",
   "metadata": {},
   "source": [
    "Dados fornecidos:"
   ]
  },
  {
   "cell_type": "code",
   "execution_count": 8,
   "metadata": {},
   "outputs": [],
   "source": [
    "# Rejeição de calor a pressão constante\n",
    "# Pressão\n",
    "P4 = 1.013*1e5 #Pa\n",
    "# Rendimento isentrópico\n",
    "ntg = 0.90 #turbina a gás"
   ]
  },
  {
   "cell_type": "markdown",
   "metadata": {},
   "source": [
    "Calculos:"
   ]
  },
  {
   "cell_type": "code",
   "execution_count": 9,
   "metadata": {},
   "outputs": [],
   "source": [
    "# Isentrópico\n",
    "s4s = s3\n",
    "h4s = CP.PropsSI('H', 'P', P4, 'S', s4s, 'Air') #J/kg\n",
    "# Entalpia\n",
    "# Temos: ntg = Wr/Ws = (h3-h4)/(h3-h4s) \n",
    "h4 = h3-(ntg*(h3-h4s)) #J/Kg\n",
    "# Entropia\n",
    "s4 = CP.PropsSI('S', 'P', P4, 'H', h4, 'Air') #J/kg*K\n",
    "# Temperatura\n",
    "T4 = CP.PropsSI('T', 'P', P4, 'H', h4, 'Air') #K\n",
    "# Volume específico\n",
    "v4 = 1/CP.PropsSI('D', 'P', P4, 'H', h4, 'Air') #m^3/kg"
   ]
  },
  {
   "cell_type": "markdown",
   "metadata": {},
   "source": [
    "#### Estado 5"
   ]
  },
  {
   "cell_type": "markdown",
   "metadata": {},
   "source": [
    "Dados fornecidos:"
   ]
  },
  {
   "cell_type": "code",
   "execution_count": 10,
   "metadata": {},
   "outputs": [],
   "source": [
    "# Temperatura\n",
    "T5 = 1023.15 #K\n",
    "# Pressão constante no aquecimento\n",
    "P5 = P4"
   ]
  },
  {
   "cell_type": "markdown",
   "metadata": {},
   "source": [
    "Cálculos:"
   ]
  },
  {
   "cell_type": "code",
   "execution_count": 11,
   "metadata": {},
   "outputs": [],
   "source": [
    "# Entalpia\n",
    "h5 = CP.PropsSI('H', 'T', T5, 'P', P5, 'Air') #J/kg\n",
    "# Entropia\n",
    "s5 = CP.PropsSI('S', 'T', T5, 'P', P5, 'Air') #J/kg*K\n",
    "# Volume específico\n",
    "v5 = 1/CP.PropsSI('D', 'T', T5, 'P', P5, 'Air') #m^3/kg"
   ]
  },
  {
   "cell_type": "markdown",
   "metadata": {},
   "source": [
    "#### Estado 6"
   ]
  },
  {
   "cell_type": "markdown",
   "metadata": {},
   "source": [
    "Idem ao Estado 1."
   ]
  },
  {
   "cell_type": "markdown",
   "metadata": {},
   "source": [
    "### 1.2  Tabela"
   ]
  },
  {
   "cell_type": "markdown",
   "metadata": {},
   "source": [
    "#### Construindo o DataFrame"
   ]
  },
  {
   "cell_type": "code",
   "execution_count": 12,
   "metadata": {},
   "outputs": [
    {
     "ename": "NameError",
     "evalue": "name 'h_list' is not defined",
     "output_type": "error",
     "traceback": [
      "\u001b[0;31m---------------------------------------------------------------------------\u001b[0m",
      "\u001b[0;31mNameError\u001b[0m                                 Traceback (most recent call last)",
      "\u001b[0;32m<ipython-input-12-59b7bc45fe63>\u001b[0m in \u001b[0;36m<module>\u001b[0;34m()\u001b[0m\n\u001b[1;32m      2\u001b[0m \u001b[0mP_list\u001b[0m \u001b[0;34m=\u001b[0m \u001b[0mnp\u001b[0m\u001b[0;34m.\u001b[0m\u001b[0marray\u001b[0m\u001b[0;34m(\u001b[0m\u001b[0;34m[\u001b[0m\u001b[0mP1\u001b[0m\u001b[0;34m,\u001b[0m \u001b[0mP2\u001b[0m\u001b[0;34m,\u001b[0m \u001b[0mP3\u001b[0m\u001b[0;34m,\u001b[0m \u001b[0mP4\u001b[0m\u001b[0;34m,\u001b[0m \u001b[0mP5\u001b[0m\u001b[0;34m,\u001b[0m \u001b[0mP1\u001b[0m\u001b[0;34m]\u001b[0m\u001b[0;34m)\u001b[0m \u001b[0;31m#Pa\u001b[0m\u001b[0;34m\u001b[0m\u001b[0m\n\u001b[1;32m      3\u001b[0m \u001b[0mP_list\u001b[0m \u001b[0;34m=\u001b[0m \u001b[0mnp\u001b[0m\u001b[0;34m.\u001b[0m\u001b[0mapply_along_axis\u001b[0m\u001b[0;34m(\u001b[0m\u001b[0;32mlambda\u001b[0m \u001b[0mx\u001b[0m\u001b[0;34m:\u001b[0m \u001b[0mx\u001b[0m\u001b[0;34m/\u001b[0m\u001b[0;36m1e5\u001b[0m\u001b[0;34m,\u001b[0m \u001b[0;36m0\u001b[0m\u001b[0;34m,\u001b[0m \u001b[0mP_list\u001b[0m\u001b[0;34m)\u001b[0m \u001b[0;31m# converte para Bar\u001b[0m\u001b[0;34m\u001b[0m\u001b[0m\n\u001b[0;32m----> 4\u001b[0;31m \u001b[0mh_list\u001b[0m \u001b[0;34m=\u001b[0m \u001b[0mnp\u001b[0m\u001b[0;34m.\u001b[0m\u001b[0maround\u001b[0m\u001b[0;34m(\u001b[0m\u001b[0mh_list\u001b[0m\u001b[0;34m,\u001b[0m \u001b[0mdecimals\u001b[0m\u001b[0;34m=\u001b[0m\u001b[0;36m4\u001b[0m\u001b[0;34m)\u001b[0m\u001b[0;34m\u001b[0m\u001b[0m\n\u001b[0m\u001b[1;32m      5\u001b[0m \u001b[0;34m\u001b[0m\u001b[0m\n\u001b[1;32m      6\u001b[0m \u001b[0;31m# Temperatura de cada estado\u001b[0m\u001b[0;34m\u001b[0m\u001b[0;34m\u001b[0m\u001b[0m\n",
      "\u001b[0;31mNameError\u001b[0m: name 'h_list' is not defined"
     ]
    }
   ],
   "source": [
    "# Pressão de cada estado \n",
    "P_list = np.array([P1, P2, P3, P4, P5, P1]) #Pa\n",
    "P_list = np.apply_along_axis(lambda x: x/1e5, 0, P_list) # converte para Bar\n",
    "P_list = np.around(P_list, decimals=4)\n",
    "\n",
    "# Temperatura de cada estado\n",
    "T_list = np.array([T1, T2, T3, T4, T5, T1]) #K\n",
    "T_list = np.apply_along_axis(lambda x: x-273.15, 0, T_list) # converte para •C\n",
    "T_list = np.around(T_list, decimals=4)\n",
    "\n",
    "# Volume específico de cada estado\n",
    "v_list = np.array([v1, v2, v3, v4, v5, v1]) #m^3/kg\n",
    "v_list = np.around(v_list, decimals=4)\n",
    "\n",
    "# Entalpia de cada estado\n",
    "h_list = np.array([h1, h2, h3, h4, h5, h1]) #J/Kg\n",
    "h_list = np.apply_along_axis(lambda x: x*1e-3, 0, h_list) # converte para KJ/Kg\n",
    "h_list = np.around(h_list, decimals=4)\n",
    "\n",
    "# Entropia de cada estado\n",
    "s_list = np.array([s1, s2, s3, s4, s5, s1]) #J/Kg/K\n",
    "s_list = np.apply_along_axis(lambda x: x*1e-3, 0, s_list) # converte para KJ/Kg*K\n",
    "s_list = np.around(s_list, decimals=4)\n",
    "\n",
    "# Estados\n",
    "e_list = np.arange(1,7)"
   ]
  },
  {
   "cell_type": "code",
   "execution_count": null,
   "metadata": {},
   "outputs": [],
   "source": [
    "data = {'Pressão (Bar)': P_list, \n",
    "        'Temperatura (ºC)': T_list, \n",
    "        'Volume.Específico (m^3/kg)': v_list,\n",
    "        'Entalpia (KJ/Kg)': h_list,\n",
    "        'Entropia (KJ/Kg*K)': s_list,\n",
    "        'Estado': e_list}\n",
    "\n",
    "df = pd.DataFrame.from_dict(data)\n",
    "df.set_index('Estado')"
   ]
  }
 ],
 "metadata": {
  "kernelspec": {
   "display_name": "Python 3",
   "language": "python",
   "name": "python3"
  }
 },
 "nbformat": 4,
 "nbformat_minor": 2
}
