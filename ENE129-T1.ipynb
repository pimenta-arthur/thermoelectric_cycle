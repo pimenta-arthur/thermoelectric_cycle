{
 "cells": [
  {
   "cell_type": "markdown",
   "metadata": {},
   "source": [
    "# ENE129 - T1"
   ]
  },
  {
   "cell_type": "code",
   "execution_count": 15,
   "metadata": {},
   "outputs": [],
   "source": [
    "import CoolProp\n",
    "import CoolProp.CoolProp as CP\n",
    "import numpy as np\n",
    "import pandas as pd"
   ]
  },
  {
   "cell_type": "markdown",
   "metadata": {},
   "source": [
    "## Questão 1 e 2"
   ]
  },
  {
   "cell_type": "markdown",
   "metadata": {},
   "source": [
    "## 1 Ciclo a gás "
   ]
  },
  {
   "cell_type": "markdown",
   "metadata": {},
   "source": [
    "### 1.1 Primeira lei"
   ]
  },
  {
   "cell_type": "markdown",
   "metadata": {},
   "source": [
    "#### Estado 1"
   ]
  },
  {
   "cell_type": "markdown",
   "metadata": {},
   "source": [
    "Dados fornecidos:"
   ]
  },
  {
   "cell_type": "code",
   "execution_count": 2,
   "metadata": {},
   "outputs": [],
   "source": [
    "# Pressão\n",
    "P1 = 1.013*1e5 #Pa\n",
    "# Temperatura\n",
    "T1 = 303.15 #K"
   ]
  },
  {
   "cell_type": "markdown",
   "metadata": {},
   "source": [
    "Calculos:"
   ]
  },
  {
   "cell_type": "code",
   "execution_count": 3,
   "metadata": {},
   "outputs": [],
   "source": [
    "# Entalpia\n",
    "h1 = CP.PropsSI('H', 'T', T1, 'P', P1, 'Air') #J/Kg\n",
    "# Volume específico\n",
    "v1 = 1/CP.PropsSI('D', 'T', T1, 'P', P1, 'Air') #m^3/kg\n",
    "# Entropia\n",
    "s1 = CP.PropsSI('S', 'T', T1, 'P', P1, 'Air') #J/kg*K"
   ]
  },
  {
   "cell_type": "markdown",
   "metadata": {},
   "source": [
    "#### Estado 2"
   ]
  },
  {
   "cell_type": "markdown",
   "metadata": {},
   "source": [
    "Dados fornecidos:"
   ]
  },
  {
   "cell_type": "code",
   "execution_count": 4,
   "metadata": {},
   "outputs": [],
   "source": [
    "# Pressão\n",
    "P2 = 30*1e5 #Pa\n",
    "# Rendimento isentrópico\n",
    "nc = 0.86 #compressor"
   ]
  },
  {
   "cell_type": "markdown",
   "metadata": {},
   "source": [
    "Calculos:"
   ]
  },
  {
   "cell_type": "code",
   "execution_count": 5,
   "metadata": {},
   "outputs": [],
   "source": [
    "# Isentrópico\n",
    "s2s = s1\n",
    "h2s = CP.PropsSI('H', 'P', P2, 'S', s2s, 'Air') #J/kg\n",
    "# Entalpia\n",
    "# Temos: nc = Ws/Wr = (h2s-h1)/(h2-h1)\n",
    "h2 = (h2s-h1/nc)+h1 #J/Kg\n",
    "# Temperatura\n",
    "T2 = CP.PropsSI('T', 'P', P2, 'H', h2, 'Air') #K\n",
    "# Entropia\n",
    "s2 = CP.PropsSI('S', 'P', P2, 'H', h2, 'Air') #J/kg*K\n",
    "# Volume específico\n",
    "v2 = 1/CP.PropsSI('D', 'P', P2, 'H', h2, 'Air') #m^3/kg"
   ]
  },
  {
   "cell_type": "markdown",
   "metadata": {},
   "source": [
    "####  Estado 3"
   ]
  },
  {
   "cell_type": "markdown",
   "metadata": {},
   "source": [
    "Dados fornecidos:"
   ]
  },
  {
   "cell_type": "code",
   "execution_count": 6,
   "metadata": {},
   "outputs": [],
   "source": [
    "# Temperatura\n",
    "T3 = 1573.15 #K\n",
    "# Pressão constante no aquecimento\n",
    "P3 = P2 #Pa"
   ]
  },
  {
   "cell_type": "markdown",
   "metadata": {},
   "source": [
    "Calculos:"
   ]
  },
  {
   "cell_type": "code",
   "execution_count": 7,
   "metadata": {},
   "outputs": [],
   "source": [
    "# Entalpia\n",
    "h3 = CP.PropsSI('H', 'T', T3, 'P', P3, 'Air') #J/Kg\n",
    "# Entropia\n",
    "s3 = CP.PropsSI('S', 'T', T3, 'P', P3, 'Air') #J/kg*K\n",
    "# Volume específico\n",
    "v3 = 1/CP.PropsSI('D', 'T', T3, 'P', P3, 'Air') #m^3/kg"
   ]
  },
  {
   "cell_type": "markdown",
   "metadata": {},
   "source": [
    "####  Estado 4"
   ]
  },
  {
   "cell_type": "markdown",
   "metadata": {},
   "source": [
    "Dados fornecidos:"
   ]
  },
  {
   "cell_type": "code",
   "execution_count": 12,
   "metadata": {},
   "outputs": [],
   "source": [
    "# Rejeição de calor a pressão constante\n",
    "# Pressão\n",
    "P4 = 1.013*1e5 #Pa\n",
    "# Rendimento isentrópico\n",
    "ntg = 0.90 #turbina a gás"
   ]
  },
  {
   "cell_type": "markdown",
   "metadata": {},
   "source": [
    "Calculos:"
   ]
  },
  {
   "cell_type": "code",
   "execution_count": 10,
   "metadata": {},
   "outputs": [],
   "source": [
    "# Isentrópico\n",
    "s4s = s3\n",
    "h4s = CP.PropsSI('H', 'P', P4, 'S', s4s, 'Air') #J/kg\n",
    "# Entalpia\n",
    "# Temos: ntg = Wr/Ws = (h3-h4)/(h3-h4s) \n",
    "h4 = h3-(ntg*(h3-h4s)) #J/Kg\n",
    "# Entropia\n",
    "s4 = CP.PropsSI('S', 'P', P4, 'H', h4, 'Air') #J/kg*K\n",
    "# Temperatura\n",
    "T4 = CP.PropsSI('T', 'P', P4, 'H', h4, 'Air') #K\n",
    "# Volume específico\n",
    "v4 = 1/CP.PropsSI('D', 'P', P4, 'H', h4, 'Air') #m^3/kg"
   ]
  },
  {
   "cell_type": "markdown",
   "metadata": {},
   "source": [
    "#### Estado 5"
   ]
  },
  {
   "cell_type": "markdown",
   "metadata": {},
   "source": [
    "Dados fornecidos:"
   ]
  },
  {
   "cell_type": "code",
   "execution_count": 13,
   "metadata": {},
   "outputs": [],
   "source": [
    "# Temperatura\n",
    "T5 = 1023.15 #K\n",
    "# Pressão constante no aquecimento\n",
    "P5 = P4"
   ]
  },
  {
   "cell_type": "markdown",
   "metadata": {},
   "source": [
    "Cálculos:"
   ]
  },
  {
   "cell_type": "code",
   "execution_count": 14,
   "metadata": {},
   "outputs": [],
   "source": [
    "# Entalpia\n",
    "h5 = CP.PropsSI('H', 'T', T5, 'P', P5, 'Air') #J/kg\n",
    "# Entropia\n",
    "s5 = CP.PropsSI('S', 'T', T5, 'P', P5, 'Air') #J/kg*K\n",
    "# Volume específico\n",
    "v5 = 1/CP.PropsSI('D', 'T', T5, 'P', P5, 'Air') #m^3/kg"
   ]
  },
  {
   "cell_type": "markdown",
   "metadata": {},
   "source": [
    "#### Estado 6"
   ]
  },
  {
   "cell_type": "markdown",
   "metadata": {},
   "source": [
    "Idem ao Estado 1."
   ]
  },
  {
   "cell_type": "markdown",
   "metadata": {},
   "source": [
    "### 1.2  Tabela"
   ]
  },
  {
   "cell_type": "markdown",
   "metadata": {},
   "source": [
    "#### Construindo o DataFrame"
   ]
  },
  {
   "cell_type": "code",
   "execution_count": null,
   "metadata": {},
   "outputs": [],
   "source": [
    "P_list = np"
   ]
  }
 ],
 "metadata": {
  "kernelspec": {
   "display_name": "Python 3",
   "language": "python",
   "name": "python3"
  },
  "language_info": {
   "codemirror_mode": {
    "name": "ipython",
    "version": 3
   },
   "file_extension": ".py",
   "mimetype": "text/x-python",
   "name": "python",
   "nbconvert_exporter": "python",
   "pygments_lexer": "ipython3",
   "version": "3.6.5"
  }
 },
 "nbformat": 4,
 "nbformat_minor": 2
}
