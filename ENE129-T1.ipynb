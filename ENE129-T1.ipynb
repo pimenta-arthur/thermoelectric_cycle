{
 "cells": [
  {
   "cell_type": "markdown",
   "metadata": {},
   "source": [
    "# ENE129 - T1"
   ]
  },
  {
   "cell_type": "code",
   "execution_count": 15,
   "metadata": {},
   "outputs": [],
   "source": [
    "import CoolProp\n",
    "import CoolProp.CoolProp as CP\n",
    "import numpy as np\n",
    "import pandas as pd"
   ]
  },
  {
   "cell_type": "markdown",
   "metadata": {},
   "source": [
    "## Questão 1 e 2"
   ]
  },
  {
   "cell_type": "markdown",
   "metadata": {},
   "source": [
    "## 1 Ciclo a gás "
   ]
  },
  {
   "cell_type": "markdown",
   "metadata": {},
   "source": [
    "### 1.1 Primeira lei"
   ]
  },
  {
   "cell_type": "markdown",
   "metadata": {},
   "source": [
    "#### Estado 1"
   ]
  },
  {
   "cell_type": "markdown",
   "metadata": {},
   "source": [
    "Dados fornecidos:"
   ]
  },
  {
   "cell_type": "code",
   "execution_count": 2,
   "metadata": {},
   "outputs": [],
   "source": [
    "# Pressão\n",
    "P1 = 1.013*1e5 #Pa\n",
    "# Temperatura\n",
    "T1 = 303.15 #K"
   ]
  },
  {
   "cell_type": "markdown",
   "metadata": {},
   "source": [
    "Calculos:"
   ]
  },
  {
   "cell_type": "code",
   "execution_count": 3,
   "metadata": {},
   "outputs": [],
   "source": [
    "# Entalpia\n",
    "h1 = CP.PropsSI('H', 'T', T1, 'P', P1, 'Air') #J/Kg\n",
    "# Volume específico\n",
    "v1 = 1/CP.PropsSI('D', 'T', T1, 'P', P1, 'Air') #m^3/kg\n",
    "# Entropia\n",
    "s1 = CP.PropsSI('S', 'T', T1, 'P', P1, 'Air') #J/kg*K"
   ]
  },
  {
   "cell_type": "markdown",
   "metadata": {},
   "source": [
    "#### Estado 2"
   ]
  },
  {
   "cell_type": "markdown",
   "metadata": {},
   "source": [
    "Dados fornecidos:"
   ]
  },
  {
   "cell_type": "code",
   "execution_count": 4,
   "metadata": {},
   "outputs": [],
   "source": [
    "# Pressão\n",
    "P2 = 30*1e5 #Pa\n",
    "# Rendimento isentrópico\n",
    "nc = 0.86 #compressor"
   ]
  },
  {
   "cell_type": "markdown",
   "metadata": {},
   "source": [
    "Calculos:"
   ]
  },
  {
   "cell_type": "code",
   "execution_count": 5,
   "metadata": {},
   "outputs": [],
   "source": [
    "# Isentrópico\n",
    "s2s = s1\n",
    "h2s = CP.PropsSI('H', 'P', P2, 'S', s2s, 'Air') #J/kg\n",
    "# Entalpia\n",
    "# Temos: nc = Ws/Wr = (h2s-h1)/(h2-h1)\n",
    "h2 = (h2s-h1/nc)+h1 #J/Kg\n",
    "# Temperatura\n",
    "T2 = CP.PropsSI('T', 'P', P2, 'H', h2, 'Air') #K\n",
    "# Entropia\n",
    "s2 = CP.PropsSI('S', 'P', P2, 'H', h2, 'Air') #J/kg*K\n",
    "# Volume específico\n",
    "v2 = 1/CP.PropsSI('D', 'P', P2, 'H', h2, 'Air') #m^3/kg"
   ]
  },
  {
   "cell_type": "markdown",
   "metadata": {},
   "source": [
    "####  Estado 3"
   ]
  },
  {
   "cell_type": "markdown",
   "metadata": {},
   "source": [
    "Dados fornecidos:"
   ]
  },
  {
   "cell_type": "code",
   "execution_count": 6,
   "metadata": {},
   "outputs": [],
   "source": [
    "# Temperatura\n",
    "T3 = 1573.15 #K\n",
    "# Pressão constante no aquecimento\n",
    "P3 = P2 #Pa"
   ]
  },
  {
   "cell_type": "markdown",
   "metadata": {},
   "source": [
    "Calculos:"
   ]
  },
  {
   "cell_type": "code",
   "execution_count": 7,
   "metadata": {},
   "outputs": [],
   "source": [
    "# Entalpia\n",
    "h3 = CP.PropsSI('H', 'T', T3, 'P', P3, 'Air') #J/Kg\n",
    "# Entropia\n",
    "s3 = CP.PropsSI('S', 'T', T3, 'P', P3, 'Air') #J/kg*K\n",
    "# Volume específico\n",
    "v3 = 1/CP.PropsSI('D', 'T', T3, 'P', P3, 'Air') #m^3/kg"
   ]
  },
  {
   "cell_type": "markdown",
   "metadata": {},
   "source": [
    "####  Estado 4"
   ]
  },
  {
   "cell_type": "markdown",
   "metadata": {},
   "source": [
    "Dados fornecidos:"
   ]
  },
  {
   "cell_type": "code",
   "execution_count": 12,
   "metadata": {},
   "outputs": [],
   "source": [
    "# Rejeição de calor a pressão constante\n",
    "# Pressão\n",
    "P4 = 1.013*1e5 #Pa\n",
    "# Rendimento isentrópico\n",
    "ntg = 0.90 #turbina a gás"
   ]
  },
  {
   "cell_type": "markdown",
   "metadata": {},
   "source": [
    "Calculos:"
   ]
  },
  {
   "cell_type": "code",
   "execution_count": 10,
   "metadata": {},
   "outputs": [],
   "source": [
    "# Isentrópico\n",
    "s4s = s3\n",
    "h4s = CP.PropsSI('H', 'P', P4, 'S', s4s, 'Air') #J/kg\n",
    "# Entalpia\n",
    "# Temos: ntg = Wr/Ws = (h3-h4)/(h3-h4s) \n",
    "h4 = h3-(ntg*(h3-h4s)) #J/Kg\n",
    "# Entropia\n",
    "s4 = CP.PropsSI('S', 'P', P4, 'H', h4, 'Air') #J/kg*K\n",
    "# Temperatura\n",
    "T4 = CP.PropsSI('T', 'P', P4, 'H', h4, 'Air') #K\n",
    "# Volume específico\n",
    "v4 = 1/CP.PropsSI('D', 'P', P4, 'H', h4, 'Air') #m^3/kg"
   ]
  },
  {
   "cell_type": "markdown",
   "metadata": {},
   "source": [
    "#### Estado 5"
   ]
  },
  {
   "cell_type": "markdown",
   "metadata": {},
   "source": [
    "Dados fornecidos:"
   ]
  },
  {
   "cell_type": "code",
   "execution_count": 13,
   "metadata": {},
   "outputs": [],
   "source": [
    "# Temperatura\n",
    "T5 = 1023.15 #K\n",
    "# Pressão constante no aquecimento\n",
    "P5 = P4"
   ]
  },
  {
   "cell_type": "markdown",
   "metadata": {},
   "source": [
    "Cálculos:"
   ]
  },
  {
   "cell_type": "code",
   "execution_count": 14,
   "metadata": {},
   "outputs": [],
   "source": [
    "# Entalpia\n",
    "h5 = CP.PropsSI('H', 'T', T5, 'P', P5, 'Air') #J/kg\n",
    "# Entropia\n",
    "s5 = CP.PropsSI('S', 'T', T5, 'P', P5, 'Air') #J/kg*K\n",
    "# Volume específico\n",
    "v5 = 1/CP.PropsSI('D', 'T', T5, 'P', P5, 'Air') #m^3/kg"
   ]
  },
  {
   "cell_type": "markdown",
   "metadata": {},
   "source": [
    "#### Estado 6"
   ]
  },
  {
   "cell_type": "markdown",
   "metadata": {},
   "source": [
    "Idem ao Estado 1."
   ]
  },
  {
   "cell_type": "markdown",
   "metadata": {},
   "source": [
    "### 1.2  Tabela"
   ]
  },
  {
   "cell_type": "markdown",
   "metadata": {},
   "source": [
    "#### Construindo o DataFrame"
   ]
  },
  {
   "cell_type": "code",
   "execution_count": 94,
   "metadata": {},
   "outputs": [],
   "source": [
    "# Pressão de cada estado \n",
    "P_list = np.array([P1, P2, P3, P4, P5, P1]) #Pa\n",
    "P_list = np.apply_along_axis(lambda x: x/1e5, 0, P_list) # converte para Bar\n",
    "h_list = np.around(h_list, decimals=4)\n",
    "\n",
    "# Temperatura de cada estado\n",
    "T_list = np.array([T1, T2, T3, T4, T5, T1]) #K\n",
    "T_list = np.apply_along_axis(lambda x: x-273.15, 0, T_list) # converte para •C\n",
    "T_list = np.around(T_list, decimals=4)\n",
    "\n",
    "# Volume específico de cada estado\n",
    "v_list = np.array([v1, v2, v3, v4, v5, v1]) #m^3/kg\n",
    "v_list = np.around(v_list, decimals=4)\n",
    "\n",
    "# Entalpia de cada estado\n",
    "h_list = np.array([h1, h2, h3, h4, h5, h1]) #J/Kg\n",
    "h_list = np.apply_along_axis(lambda x: x*1e-3, 0, h_list) # converte para KJ/Kg\n",
    "h_list = np.around(h_list, decimals=4)\n",
    "\n",
    "# Entropia de cada estado\n",
    "s_list = np.array([s1, s2, s3, s4, s5, s1]) #J/Kg/K\n",
    "s_list = np.apply_along_axis(lambda x: x*1e-3, 0, s_list) # converte para KJ/Kg*K\n",
    "s_list = np.around(s_list, decimals=4)\n",
    "\n",
    "# Estados\n",
    "e_list = np.arange(1,7)"
   ]
  },
  {
   "cell_type": "code",
   "execution_count": 95,
   "metadata": {},
   "outputs": [
    {
     "data": {
      "text/html": [
       "<div>\n",
       "<style scoped>\n",
       "    .dataframe tbody tr th:only-of-type {\n",
       "        vertical-align: middle;\n",
       "    }\n",
       "\n",
       "    .dataframe tbody tr th {\n",
       "        vertical-align: top;\n",
       "    }\n",
       "\n",
       "    .dataframe thead th {\n",
       "        text-align: right;\n",
       "    }\n",
       "</style>\n",
       "<table border=\"1\" class=\"dataframe\">\n",
       "  <thead>\n",
       "    <tr style=\"text-align: right;\">\n",
       "      <th></th>\n",
       "      <th>Entalpia (KJ/Kg)</th>\n",
       "      <th>Entropia (KJ/Kg*K)</th>\n",
       "      <th>Pressão (Bar)</th>\n",
       "      <th>Temperatura (ºC)</th>\n",
       "      <th>Volume.Específico (m^3/kg)</th>\n",
       "    </tr>\n",
       "    <tr>\n",
       "      <th>Estado</th>\n",
       "      <th></th>\n",
       "      <th></th>\n",
       "      <th></th>\n",
       "      <th></th>\n",
       "      <th></th>\n",
       "    </tr>\n",
       "  </thead>\n",
       "  <tbody>\n",
       "    <tr>\n",
       "      <th>1</th>\n",
       "      <td>429.4681</td>\n",
       "      <td>3.8973</td>\n",
       "      <td>1.013</td>\n",
       "      <td>30.0000</td>\n",
       "      <td>0.8588</td>\n",
       "    </tr>\n",
       "    <tr>\n",
       "      <th>2</th>\n",
       "      <td>854.3018</td>\n",
       "      <td>3.8034</td>\n",
       "      <td>30.000</td>\n",
       "      <td>439.9021</td>\n",
       "      <td>0.0690</td>\n",
       "    </tr>\n",
       "    <tr>\n",
       "      <th>3</th>\n",
       "      <td>1853.7792</td>\n",
       "      <td>4.7158</td>\n",
       "      <td>30.000</td>\n",
       "      <td>1300.0000</td>\n",
       "      <td>0.1515</td>\n",
       "    </tr>\n",
       "    <tr>\n",
       "      <th>4</th>\n",
       "      <td>914.7972</td>\n",
       "      <td>4.8607</td>\n",
       "      <td>1.013</td>\n",
       "      <td>496.1595</td>\n",
       "      <td>2.1807</td>\n",
       "    </tr>\n",
       "    <tr>\n",
       "      <th>5</th>\n",
       "      <td>1198.9819</td>\n",
       "      <td>5.1796</td>\n",
       "      <td>1.013</td>\n",
       "      <td>750.0000</td>\n",
       "      <td>2.9002</td>\n",
       "    </tr>\n",
       "    <tr>\n",
       "      <th>6</th>\n",
       "      <td>429.4681</td>\n",
       "      <td>3.8973</td>\n",
       "      <td>1.013</td>\n",
       "      <td>30.0000</td>\n",
       "      <td>0.8588</td>\n",
       "    </tr>\n",
       "  </tbody>\n",
       "</table>\n",
       "</div>"
      ],
      "text/plain": [
       "        Entalpia (KJ/Kg)  Entropia (KJ/Kg*K)  Pressão (Bar)  Temperatura (ºC)  \\\n",
       "Estado                                                                          \n",
       "1               429.4681              3.8973          1.013           30.0000   \n",
       "2               854.3018              3.8034         30.000          439.9021   \n",
       "3              1853.7792              4.7158         30.000         1300.0000   \n",
       "4               914.7972              4.8607          1.013          496.1595   \n",
       "5              1198.9819              5.1796          1.013          750.0000   \n",
       "6               429.4681              3.8973          1.013           30.0000   \n",
       "\n",
       "        Volume.Específico (m^3/kg)  \n",
       "Estado                              \n",
       "1                           0.8588  \n",
       "2                           0.0690  \n",
       "3                           0.1515  \n",
       "4                           2.1807  \n",
       "5                           2.9002  \n",
       "6                           0.8588  "
      ]
     },
     "execution_count": 95,
     "metadata": {},
     "output_type": "execute_result"
    }
   ],
   "source": [
    "data = {'Pressão (Bar)': P_list, \n",
    "        'Temperatura (ºC)': T_list, \n",
    "        'Volume.Específico (m^3/kg)': v_list,\n",
    "        'Entalpia (KJ/Kg)': h_list,\n",
    "        'Entropia (KJ/Kg*K)': s_list,\n",
    "        'Estado': e_list}\n",
    "\n",
    "df = pd.DataFrame.from_dict(data)\n",
    "df.set_index('Estado')"
   ]
  }
 ],
 "metadata": {
  "kernelspec": {
   "display_name": "Python 3",
   "language": "python",
   "name": "python3"
  },
  "language_info": {
   "codemirror_mode": {
    "name": "ipython",
    "version": 3
   },
   "file_extension": ".py",
   "mimetype": "text/x-python",
   "name": "python",
   "nbconvert_exporter": "python",
   "pygments_lexer": "ipython3",
   "version": "3.6.5"
  }
 },
 "nbformat": 4,
 "nbformat_minor": 2
}
