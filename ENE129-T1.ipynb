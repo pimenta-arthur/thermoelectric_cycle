{
 "cells": [
  {
   "cell_type": "markdown",
   "metadata": {},
   "source": [
    "# ENE129 - T1"
   ]
  },
  {
   "cell_type": "code",
   "execution_count": 1,
   "metadata": {},
   "outputs": [],
   "source": [
    "import CoolProp\n",
    "import CoolProp.CoolProp as CP\n",
    "import numpy as np\n",
    "import pandas as pd"
   ]
  },
  {
   "cell_type": "markdown",
   "metadata": {},
   "source": [
    "## Questão 2"
   ]
  },
  {
   "cell_type": "markdown",
   "metadata": {},
   "source": [
    "## 1 Ciclo a gás "
   ]
  },
  {
   "cell_type": "markdown",
   "metadata": {},
   "source": [
    "### 1.1 Primeira lei"
   ]
  },
  {
   "cell_type": "markdown",
   "metadata": {},
   "source": [
    "#### Estado 1"
   ]
  },
  {
   "cell_type": "markdown",
   "metadata": {},
   "source": [
    "Dados fornecidos:"
   ]
  },
  {
   "cell_type": "code",
   "execution_count": 2,
   "metadata": {},
   "outputs": [],
   "source": [
    "# Pressão\n",
    "P1 = 1.013*1e5 #Pa\n",
    "# Temperatura\n",
    "T1 = 303.15 #K"
   ]
  },
  {
   "cell_type": "markdown",
   "metadata": {},
   "source": [
    "Cálculos:"
   ]
  },
  {
   "cell_type": "code",
   "execution_count": 3,
   "metadata": {},
   "outputs": [],
   "source": [
    "# Entalpia\n",
    "h1 = CP.PropsSI('H', 'T', T1, 'P', P1, 'Air') #J/Kg\n",
    "# Volume específico\n",
    "v1 = 1/CP.PropsSI('D', 'T', T1, 'P', P1, 'Air') #m^3/kg\n",
    "# Entropia\n",
    "s1 = CP.PropsSI('S', 'T', T1, 'P', P1, 'Air') #J/kg*K"
   ]
  },
  {
   "cell_type": "markdown",
   "metadata": {},
   "source": [
    "#### Estado 2"
   ]
  },
  {
   "cell_type": "markdown",
   "metadata": {},
   "source": [
    "Dados fornecidos:"
   ]
  },
  {
   "cell_type": "code",
   "execution_count": 4,
   "metadata": {},
   "outputs": [],
   "source": [
    "# Pressão\n",
    "P2 = 30*1e5 #Pa\n",
    "# Rendimento isentrópico\n",
    "nc = 0.86 #Compressor"
   ]
  },
  {
   "cell_type": "markdown",
   "metadata": {},
   "source": [
    "Cálculos:"
   ]
  },
  {
   "cell_type": "code",
   "execution_count": 5,
   "metadata": {},
   "outputs": [],
   "source": [
    "# Isentrópico\n",
    "s2s = s1\n",
    "h2s = CP.PropsSI('H', 'P', P2, 'S', s2s, 'Air') #J/kg\n",
    "# Entalpia\n",
    "# Temos: nc = Ws/Wr = (h2s-h1)/(h2-h1)\n",
    "h2 = ((h2s-h1)/nc)+h1 #J/Kg\n",
    "# Temperatura\n",
    "T2 = CP.PropsSI('T', 'P', P2, 'H', h2, 'Air') #K\n",
    "# Entropia\n",
    "s2 = CP.PropsSI('S', 'P', P2, 'H', h2, 'Air') #J/kg*K\n",
    "# Volume específico\n",
    "v2 = 1/CP.PropsSI('D', 'P', P2, 'H', h2, 'Air') #m^3/kg"
   ]
  },
  {
   "cell_type": "markdown",
   "metadata": {},
   "source": [
    "####  Estado 3"
   ]
  },
  {
   "cell_type": "markdown",
   "metadata": {},
   "source": [
    "Dados fornecidos:"
   ]
  },
  {
   "cell_type": "code",
   "execution_count": 6,
   "metadata": {},
   "outputs": [],
   "source": [
    "# Temperatura\n",
    "T3 = 1573.15 #K\n",
    "# Pressão constante no aquecimento\n",
    "P3 = P2 #Pa"
   ]
  },
  {
   "cell_type": "markdown",
   "metadata": {},
   "source": [
    "Cálculos:"
   ]
  },
  {
   "cell_type": "code",
   "execution_count": 7,
   "metadata": {},
   "outputs": [],
   "source": [
    "# Entalpia\n",
    "h3 = CP.PropsSI('H', 'T', T3, 'P', P3, 'Air') #J/Kg\n",
    "# Entropia\n",
    "s3 = CP.PropsSI('S', 'T', T3, 'P', P3, 'Air') #J/kg*K\n",
    "# Volume específico\n",
    "v3 = 1/CP.PropsSI('D', 'T', T3, 'P', P3, 'Air') #m^3/kg"
   ]
  },
  {
   "cell_type": "markdown",
   "metadata": {},
   "source": [
    "####  Estado 4"
   ]
  },
  {
   "cell_type": "markdown",
   "metadata": {},
   "source": [
    "Dados fornecidos:"
   ]
  },
  {
   "cell_type": "code",
   "execution_count": 8,
   "metadata": {},
   "outputs": [],
   "source": [
    "# Rejeição de calor a pressão constante\n",
    "# Pressão\n",
    "P4 = 1.013*1e5 #Pa\n",
    "# Rendimento isentrópico\n",
    "ntg = 0.90 #Turbina a gás"
   ]
  },
  {
   "cell_type": "markdown",
   "metadata": {},
   "source": [
    "Cálculos:"
   ]
  },
  {
   "cell_type": "code",
   "execution_count": 9,
   "metadata": {},
   "outputs": [],
   "source": [
    "# Isentrópico\n",
    "s4s = s3\n",
    "h4s = CP.PropsSI('H', 'P', P4, 'S', s4s, 'Air') #J/kg\n",
    "# Entalpia\n",
    "# Temos: ntg = Wr/Ws = (h3-h4)/(h3-h4s) \n",
    "h4 = h3-(ntg*(h3-h4s)) #J/Kg\n",
    "# Entropia\n",
    "s4 = CP.PropsSI('S', 'P', P4, 'H', h4, 'Air') #J/kg*K\n",
    "# Temperatura\n",
    "T4 = CP.PropsSI('T', 'P', P4, 'H', h4, 'Air') #K\n",
    "# Volume específico\n",
    "v4 = 1/CP.PropsSI('D', 'P', P4, 'H', h4, 'Air') #m^3/kg"
   ]
  },
  {
   "cell_type": "markdown",
   "metadata": {},
   "source": [
    "#### Estado 5"
   ]
  },
  {
   "cell_type": "markdown",
   "metadata": {},
   "source": [
    "Dados fornecidos:"
   ]
  },
  {
   "cell_type": "code",
   "execution_count": 10,
   "metadata": {},
   "outputs": [],
   "source": [
    "# Temperatura\n",
    "T5 = 1023.15 #K\n",
    "# Pressão constante no aquecimento\n",
    "P5 = P4"
   ]
  },
  {
   "cell_type": "markdown",
   "metadata": {},
   "source": [
    "Cálculos:"
   ]
  },
  {
   "cell_type": "code",
   "execution_count": 11,
   "metadata": {},
   "outputs": [],
   "source": [
    "# Entalpia\n",
    "h5 = CP.PropsSI('H', 'T', T5, 'P', P5, 'Air') #J/kg\n",
    "# Entropia\n",
    "s5 = CP.PropsSI('S', 'T', T5, 'P', P5, 'Air') #J/kg*K\n",
    "# Volume específico\n",
    "v5 = 1/CP.PropsSI('D', 'T', T5, 'P', P5, 'Air') #m^3/kg"
   ]
  },
  {
   "cell_type": "markdown",
   "metadata": {},
   "source": [
    "#### Estado 6"
   ]
  },
  {
   "cell_type": "markdown",
   "metadata": {},
   "source": [
    "Dados fornecidos:"
   ]
  },
  {
   "cell_type": "code",
   "execution_count": 12,
   "metadata": {},
   "outputs": [],
   "source": [
    "# Parte do ciclo a gás\n",
    "#\n",
    "# Pressão\n",
    "P6 = 1.013*1e5 #Pa\n",
    "m_gas = 450 #Kg/s\n",
    "\n",
    "# Parte do ciclo a vapor\n",
    "#\n",
    "#Vazão mássica\n",
    "m_vapor = 200/2 #Kg/s \n",
    "\n",
    "# Vapor superaquecido\n",
    "# Temperatura\n",
    "T_vapor = 823.15 #K\n",
    "# Pressão\n",
    "P_vapor = 125*1e5 #Pa\n",
    "# Entalpia\n",
    "h_vapor = CP.PropsSI('H', 'T', T_vapor, 'P', P_vapor, 'Water') #J/kg\n",
    "\n",
    "# Água de alimentação\n",
    "# Temperatura\n",
    "T_agua = 303.15 #K\n",
    "# Pressão\n",
    "P_agua = 125*1e5 #Pa\n",
    "# Entalpia\n",
    "h_agua = CP.PropsSI('H', 'T', T_agua, 'P', P_agua, 'Water') #J/kg"
   ]
  },
  {
   "cell_type": "markdown",
   "metadata": {},
   "source": [
    "Calcular o estado 6:"
   ]
  },
  {
   "cell_type": "code",
   "execution_count": 13,
   "metadata": {},
   "outputs": [],
   "source": [
    "# Temos: 0 = m_gas*(h5 - h6) + m_vapor*(h_agua - h_vapor) \n",
    "# h6 = (h5*m_gas + m_vapor*(h_agua - h_vapor))/m_gas\n",
    "# h6 = h5 + (m_vapor*/m_gas)*(h_agua - h_vapor)\n",
    "\n",
    "# Entalpia\n",
    "h6 = h5 + ((m_vapor/m_gas)*(h_agua-h_vapor)) #J/kg\n",
    "# Entropia\n",
    "s6 = CP.PropsSI('S', 'P', P6, 'H', h6, 'Air') #J/kg*K\n",
    "# Temperatura\n",
    "T6 = CP.PropsSI('T', 'P', P6, 'H', h6, 'Air') #K\n",
    "# Volume específico\n",
    "v6 = 1/CP.PropsSI('D', 'P', P6, 'H', P6, 'Air') #m^3/kg"
   ]
  },
  {
   "cell_type": "markdown",
   "metadata": {},
   "source": [
    "### 1.2  Tabela"
   ]
  },
  {
   "cell_type": "markdown",
   "metadata": {},
   "source": [
    "#### Construindo o DataFrame"
   ]
  },
  {
   "cell_type": "code",
   "execution_count": 15,
   "metadata": {},
   "outputs": [],
   "source": [
    "# Pressão de cada estado \n",
    "P_list = np.array([P1, P2, P3, P4, P5, P6]) #Pa\n",
    "P_list = np.apply_along_axis(lambda x: x/1e5, 0, P_list) #Converte para Bar\n",
    "P_list = np.around(P_list, decimals=4)\n",
    "\n",
    "# Temperatura de cada estado\n",
    "T_list = np.array([T1, T2, T3, T4, T5, T6]) #K\n",
    "T_list = np.apply_along_axis(lambda x: x-273.15, 0, T_list) #Converte para •C\n",
    "T_list = np.around(T_list, decimals=4)\n",
    "\n",
    "# Volume específico de cada estado\n",
    "v_list = np.array([v1, v2, v3, v4, v5, v6]) #m^3/kg\n",
    "v_list = np.around(v_list, decimals=4)\n",
    "\n",
    "# Entalpia de cada estado\n",
    "h_list = np.array([h1, h2, h3, h4, h5, h6]) #J/Kg\n",
    "h_list = np.apply_along_axis(lambda x: x*1e-3, 0, h_list) #Converte para KJ/Kg\n",
    "h_list = np.around(h_list, decimals=4)\n",
    "\n",
    "# Entropia de cada estado\n",
    "s_list = np.array([s1, s2, s3, s4, s5, s6]) #J/Kg*K\n",
    "s_list = np.apply_along_axis(lambda x: x*1e-3, 0, s_list) #Converte para KJ/Kg*K\n",
    "s_list = np.around(s_list, decimals=4)\n",
    "\n",
    "# Estados\n",
    "e_list = np.arange(1,7)"
   ]
  },
  {
   "cell_type": "code",
   "execution_count": 16,
   "metadata": {},
   "outputs": [
    {
     "data": {
      "text/html": [
       "<div>\n",
       "<style scoped>\n",
       "    .dataframe tbody tr th:only-of-type {\n",
       "        vertical-align: middle;\n",
       "    }\n",
       "\n",
       "    .dataframe tbody tr th {\n",
       "        vertical-align: top;\n",
       "    }\n",
       "\n",
       "    .dataframe thead th {\n",
       "        text-align: right;\n",
       "    }\n",
       "</style>\n",
       "<table border=\"1\" class=\"dataframe\">\n",
       "  <thead>\n",
       "    <tr style=\"text-align: right;\">\n",
       "      <th></th>\n",
       "      <th>Entalpia (KJ/Kg)</th>\n",
       "      <th>Entropia (KJ/Kg*K)</th>\n",
       "      <th>Pressão (Bar)</th>\n",
       "      <th>Temperatura (ºC)</th>\n",
       "      <th>Volume.Específico (m^3/kg)</th>\n",
       "    </tr>\n",
       "    <tr>\n",
       "      <th>Estado</th>\n",
       "      <th></th>\n",
       "      <th></th>\n",
       "      <th></th>\n",
       "      <th></th>\n",
       "      <th></th>\n",
       "    </tr>\n",
       "  </thead>\n",
       "  <tbody>\n",
       "    <tr>\n",
       "      <th>1</th>\n",
       "      <td>429.4681</td>\n",
       "      <td>3.8973</td>\n",
       "      <td>1.013</td>\n",
       "      <td>30.0000</td>\n",
       "      <td>0.8588</td>\n",
       "    </tr>\n",
       "    <tr>\n",
       "      <th>2</th>\n",
       "      <td>1004.7554</td>\n",
       "      <td>3.9964</td>\n",
       "      <td>30.000</td>\n",
       "      <td>576.7903</td>\n",
       "      <td>0.0822</td>\n",
       "    </tr>\n",
       "    <tr>\n",
       "      <th>3</th>\n",
       "      <td>1853.7792</td>\n",
       "      <td>4.7158</td>\n",
       "      <td>30.000</td>\n",
       "      <td>1300.0000</td>\n",
       "      <td>0.1515</td>\n",
       "    </tr>\n",
       "    <tr>\n",
       "      <th>4</th>\n",
       "      <td>914.7972</td>\n",
       "      <td>4.8607</td>\n",
       "      <td>1.013</td>\n",
       "      <td>496.1595</td>\n",
       "      <td>2.1807</td>\n",
       "    </tr>\n",
       "    <tr>\n",
       "      <th>5</th>\n",
       "      <td>1198.9819</td>\n",
       "      <td>5.1796</td>\n",
       "      <td>1.013</td>\n",
       "      <td>750.0000</td>\n",
       "      <td>2.9002</td>\n",
       "    </tr>\n",
       "    <tr>\n",
       "      <th>6</th>\n",
       "      <td>456.8855</td>\n",
       "      <td>3.9839</td>\n",
       "      <td>1.013</td>\n",
       "      <td>57.2236</td>\n",
       "      <td>0.1106</td>\n",
       "    </tr>\n",
       "  </tbody>\n",
       "</table>\n",
       "</div>"
      ],
      "text/plain": [
       "        Entalpia (KJ/Kg)  Entropia (KJ/Kg*K)  Pressão (Bar)  Temperatura (ºC)  \\\n",
       "Estado                                                                          \n",
       "1               429.4681              3.8973          1.013           30.0000   \n",
       "2              1004.7554              3.9964         30.000          576.7903   \n",
       "3              1853.7792              4.7158         30.000         1300.0000   \n",
       "4               914.7972              4.8607          1.013          496.1595   \n",
       "5              1198.9819              5.1796          1.013          750.0000   \n",
       "6               456.8855              3.9839          1.013           57.2236   \n",
       "\n",
       "        Volume.Específico (m^3/kg)  \n",
       "Estado                              \n",
       "1                           0.8588  \n",
       "2                           0.0822  \n",
       "3                           0.1515  \n",
       "4                           2.1807  \n",
       "5                           2.9002  \n",
       "6                           0.1106  "
      ]
     },
     "execution_count": 16,
     "metadata": {},
     "output_type": "execute_result"
    }
   ],
   "source": [
    "data = {'Pressão (Bar)': P_list, \n",
    "        'Temperatura (ºC)': T_list, \n",
    "        'Volume.Específico (m^3/kg)': v_list,\n",
    "        'Entalpia (KJ/Kg)': h_list,\n",
    "        'Entropia (KJ/Kg*K)': s_list,\n",
    "        'Estado': e_list}\n",
    "\n",
    "df = pd.DataFrame.from_dict(data)\n",
    "df.set_index('Estado')"
   ]
  },
  {
   "cell_type": "markdown",
   "metadata": {},
   "source": [
    "## 2 Ciclo a vapor"
   ]
  },
  {
   "cell_type": "markdown",
   "metadata": {},
   "source": [
    "### 2.1 Primeira lei"
   ]
  },
  {
   "cell_type": "markdown",
   "metadata": {},
   "source": [
    "#### Estado 1"
   ]
  },
  {
   "cell_type": "markdown",
   "metadata": {},
   "source": [
    "Dados fornecidos:"
   ]
  },
  {
   "cell_type": "code",
   "execution_count": 14,
   "metadata": {},
   "outputs": [],
   "source": [
    "# Pressão\n",
    "P1 = 125*1e5 #Pa\n",
    "# Temperatura\n",
    "T1 = 823.15 #K"
   ]
  },
  {
   "cell_type": "markdown",
   "metadata": {},
   "source": [
    "Cálculos:"
   ]
  },
  {
   "cell_type": "code",
   "execution_count": 15,
   "metadata": {},
   "outputs": [],
   "source": [
    "# Entalpia\n",
    "h1 = CP.PropsSI('H', 'T', T1, 'P', P1, 'Water') #J/Kg\n",
    "# Volume específico\n",
    "v1 = 1/CP.PropsSI('D', 'T', T1, 'P', P1, 'Water') #m^3/kg\n",
    "# Entropia\n",
    "s1 = CP.PropsSI('S', 'T', T1, 'P', P1, 'Water') #J/kg*K\n",
    "# Título\n",
    "x1 = CP.PropsSI('Q', 'T', T1, 'P', P1, 'Water')"
   ]
  },
  {
   "cell_type": "markdown",
   "metadata": {},
   "source": [
    "#### Estado 2"
   ]
  },
  {
   "cell_type": "markdown",
   "metadata": {},
   "source": [
    "Dados fornecidos:"
   ]
  },
  {
   "cell_type": "code",
   "execution_count": 16,
   "metadata": {},
   "outputs": [],
   "source": [
    "# Pressão\n",
    "HP1 = 45*1e5 #Pa\n",
    "P2 = HP1\n",
    "# Rendimento isentrópico\n",
    "ntv = 0.90 #Estágios da turbina a vapor"
   ]
  },
  {
   "cell_type": "markdown",
   "metadata": {},
   "source": [
    "Cálculos:"
   ]
  },
  {
   "cell_type": "code",
   "execution_count": 17,
   "metadata": {},
   "outputs": [],
   "source": [
    "# Isentrópico\n",
    "s2s = s1\n",
    "h2s = CP.PropsSI('H', 'P', P2, 'S', s2s, 'Water') #J/kg\n",
    "# Entalpia\n",
    "# Temos: ntv = Wr/Ws = (h1-h2)/(h1-h2s) \n",
    "h2 = h1-(ntv*(h1-h2s)) #J/Kg\n",
    "# Entropia\n",
    "s2 = CP.PropsSI('S', 'P', P2, 'H', h2, 'Water') #J/kg*K\n",
    "# Temperatura\n",
    "T2 = CP.PropsSI('T', 'P', P2, 'H', h2, 'Water') #K\n",
    "# Volume específico\n",
    "v2 = 1/CP.PropsSI('D', 'P', P2, 'H', h2, 'Water') #m^3/kg\n",
    "# Título\n",
    "x2 = CP.PropsSI('Q', 'P', P2, 'H', h2, 'Water')"
   ]
  },
  {
   "cell_type": "markdown",
   "metadata": {},
   "source": [
    "#### Estado 3"
   ]
  },
  {
   "cell_type": "markdown",
   "metadata": {},
   "source": [
    "Dados fornecidos:"
   ]
  },
  {
   "cell_type": "code",
   "execution_count": 18,
   "metadata": {},
   "outputs": [],
   "source": [
    "# Pressão\n",
    "HP2 = 25*1e5 #Pa\n",
    "P3 = HP2\n",
    "# Rendimento isentrópico\n",
    "ntv = 0.90 #Estágios da turbina a vapor"
   ]
  },
  {
   "cell_type": "markdown",
   "metadata": {},
   "source": [
    "Cálculos:"
   ]
  },
  {
   "cell_type": "code",
   "execution_count": 19,
   "metadata": {},
   "outputs": [],
   "source": [
    "# Isentrópico\n",
    "s3s = s2\n",
    "h3s = CP.PropsSI('H', 'P', P3, 'S', s3s, 'Water') #J/kg\n",
    "# Entalpia\n",
    "# Temos: ntv = Wr/Ws = (h2-h3)/(h2-h3s) \n",
    "h3 = h2-(ntv*(h2-h3s)) #J/Kg\n",
    "# Entropia\n",
    "s3 = CP.PropsSI('S', 'P', P3, 'H', h3, 'Water') #J/kg*K\n",
    "# Temperatura\n",
    "T3 = CP.PropsSI('T', 'P', P3, 'H', h3, 'Water') #K\n",
    "# Volume específico\n",
    "v3 = 1/CP.PropsSI('D', 'P', P3, 'H', h3, 'Water') #m^3/kg\n",
    "# Título\n",
    "x3 = CP.PropsSI('Q', 'P', P3, 'H', h3, 'Water')"
   ]
  },
  {
   "cell_type": "markdown",
   "metadata": {},
   "source": [
    "#### Estado 4"
   ]
  },
  {
   "cell_type": "markdown",
   "metadata": {},
   "source": [
    "Dados fornecidos:"
   ]
  },
  {
   "cell_type": "code",
   "execution_count": 20,
   "metadata": {},
   "outputs": [],
   "source": [
    "# Pressão\n",
    "LP1 = 7*1e5 #Pa\n",
    "P4 = LP1\n",
    "# Rendimento isentrópico\n",
    "ntv = 0.90 #Estágios da turbina a vapor"
   ]
  },
  {
   "cell_type": "markdown",
   "metadata": {},
   "source": [
    "Cálculos:"
   ]
  },
  {
   "cell_type": "code",
   "execution_count": 21,
   "metadata": {},
   "outputs": [],
   "source": [
    "# Isentrópico\n",
    "s4s = s3\n",
    "h4s = CP.PropsSI('H', 'P', P4, 'S', s4s, 'Water') #J/kg\n",
    "# Entalpia\n",
    "# Temos: ntv = Wr/Ws = (h3-h4)/(h3-h4s) \n",
    "h4 = h3-(ntv*(h3-h4s)) #J/Kg\n",
    "# Entropia\n",
    "s4 = CP.PropsSI('S', 'P', P4, 'H', h4, 'Water') #J/kg*K\n",
    "# Temperatura\n",
    "T4 = CP.PropsSI('T', 'P', P4, 'H', h4, 'Water') #K\n",
    "# Volume específico\n",
    "v4 = 1/CP.PropsSI('D', 'P', P4, 'H', h4, 'Water') #m^3/kg\n",
    "# Título\n",
    "x4 = CP.PropsSI('Q', 'P', P4, 'H', h4, 'Water')"
   ]
  },
  {
   "cell_type": "markdown",
   "metadata": {},
   "source": [
    "#### Estado 5"
   ]
  },
  {
   "cell_type": "markdown",
   "metadata": {},
   "source": [
    "Conserva as propriedades intensivas do **estado 4** após o divisor **D2**."
   ]
  },
  {
   "cell_type": "code",
   "execution_count": 22,
   "metadata": {},
   "outputs": [],
   "source": [
    "# Pressão\n",
    "P5 = P4\n",
    "# Temperatura\n",
    "T5 = T4\n",
    "# Entalpia\n",
    "h5 = h4/2 #Extensiva\n",
    "# Entropia\n",
    "s5 = s4/2 #Extensiva\n",
    "# Volume específico\n",
    "v5 = v4\n",
    "# Título\n",
    "x5 = x4"
   ]
  },
  {
   "cell_type": "markdown",
   "metadata": {},
   "source": [
    "#### Estado 6"
   ]
  },
  {
   "cell_type": "markdown",
   "metadata": {},
   "source": [
    "Conserva as propriedades intensivas do **estado 4** após o divisor **D2**."
   ]
  },
  {
   "cell_type": "code",
   "execution_count": 23,
   "metadata": {},
   "outputs": [],
   "source": [
    "# Pressão\n",
    "P6 = P4\n",
    "# Temperatura\n",
    "T6 = T4\n",
    "# Entalpia\n",
    "h6 = h4/2 #Extensiva\n",
    "# Entropia\n",
    "s6 = s4/2 #Extensiva\n",
    "# Volume específico\n",
    "v6 = v4\n",
    "# Título\n",
    "x6 = x4"
   ]
  },
  {
   "cell_type": "markdown",
   "metadata": {},
   "source": [
    "#### Estado 7"
   ]
  },
  {
   "cell_type": "markdown",
   "metadata": {},
   "source": [
    "Conserva as propriedades do **estado 6** após a válvula **V1**."
   ]
  },
  {
   "cell_type": "code",
   "execution_count": 24,
   "metadata": {},
   "outputs": [],
   "source": [
    "# Pressão\n",
    "P7 = P6\n",
    "# Temperatura\n",
    "T7 = T6\n",
    "# Entalpia\n",
    "h7 = h6\n",
    "# Entropia\n",
    "s7 = s6\n",
    "# Volume específico\n",
    "v7 = v6\n",
    "# Título\n",
    "x7 = x6"
   ]
  },
  {
   "cell_type": "markdown",
   "metadata": {},
   "source": [
    "#### Estado 8"
   ]
  },
  {
   "cell_type": "markdown",
   "metadata": {},
   "source": [
    "Dados fornecidos:"
   ]
  },
  {
   "cell_type": "code",
   "execution_count": 25,
   "metadata": {},
   "outputs": [],
   "source": [
    "# Pressão\n",
    "LP2 = 0.3*1e5 #Pa\n",
    "P8 = LP2\n",
    "# Rendimento isentrópico\n",
    "ntv = 0.90 #Estágios da turbina a vapor"
   ]
  },
  {
   "cell_type": "markdown",
   "metadata": {},
   "source": [
    "Cálculos:"
   ]
  },
  {
   "cell_type": "code",
   "execution_count": 26,
   "metadata": {},
   "outputs": [],
   "source": [
    "# Isentrópico\n",
    "s8s = s5\n",
    "h8s = CP.PropsSI('H', 'P', P8, 'S', s8s, 'Water') #J/kg\n",
    "# Entalpia\n",
    "# Temos: ntv = Wr/Ws = (h5-h8)/(h5-h8s) \n",
    "h8 = h5-(ntv*(h5-h8s)) #J/Kg\n",
    "# Entropia\n",
    "s8 = CP.PropsSI('S', 'P', P8, 'H', h8, 'Water') #J/kg*K\n",
    "# Temperatura\n",
    "T8 = CP.PropsSI('T', 'P', P8, 'H', h8, 'Water') #K\n",
    "# Volume específico\n",
    "v8 = 1/CP.PropsSI('D', 'P', P8, 'H', h8, 'Water') #m^3/kg\n",
    "# Título\n",
    "x8 = CP.PropsSI('Q', 'P', P8, 'H', h8, 'Water')"
   ]
  },
  {
   "cell_type": "markdown",
   "metadata": {},
   "source": [
    "#### Estado 9"
   ]
  },
  {
   "cell_type": "markdown",
   "metadata": {},
   "source": [
    "Líquido saturado na saída do **condensador**."
   ]
  },
  {
   "cell_type": "code",
   "execution_count": 27,
   "metadata": {},
   "outputs": [],
   "source": [
    "# Pressão\n",
    "P9 = P8 #Pa\n",
    "# Temperatura\n",
    "T9 = T8 #K\n",
    "# Título\n",
    "x9 = 1 #Água saturada\n",
    "# Entalpia\n",
    "h9 = CP.PropsSI('H', 'P', P9, 'Q', x9, 'Water') #J/kg\n",
    "# Entropia\n",
    "s9 = CP.PropsSI('S', 'P', P9, 'Q', x9, 'Water') #J/kg\n",
    "# Volume específico\n",
    "v9 = CP.PropsSI('D', 'P', P9, 'Q', x9, 'Water') #J/kg\n"
   ]
  },
  {
   "cell_type": "markdown",
   "metadata": {},
   "source": [
    "#### Estado 10"
   ]
  },
  {
   "cell_type": "markdown",
   "metadata": {},
   "source": [
    "Dados fornecidos:"
   ]
  },
  {
   "cell_type": "code",
   "execution_count": 28,
   "metadata": {},
   "outputs": [],
   "source": [
    "# Pressão\n",
    "P10 = 10*1e5 #Pa\n",
    "# Rendimento isentrópico\n",
    "nb = 0.85 #Bomba"
   ]
  },
  {
   "cell_type": "markdown",
   "metadata": {},
   "source": [
    "Cálculos:"
   ]
  },
  {
   "cell_type": "code",
   "execution_count": 29,
   "metadata": {},
   "outputs": [],
   "source": [
    "# Isentrópico\n",
    "s10s = s9\n",
    "h10s = CP.PropsSI('H', 'P', P10, 'S', s10s, 'Water') #J/kg\n",
    "# Entalpia\n",
    "# Temos: nb = Wr/Ws = (h10s-h9)/(h10-h9) \n",
    "h10 = ((h10s-h9)/nb)+h9 #J/Kg\n",
    "# Entropia\n",
    "s10 = CP.PropsSI('S', 'P', P10, 'H', h10, 'Water') #J/kg*K\n",
    "# Temperatura\n",
    "T10 = CP.PropsSI('T', 'P', P10, 'H', h10, 'Water') #K\n",
    "# Volume específico\n",
    "v10 = 1/CP.PropsSI('D', 'P', P10, 'H', h10, 'Water') #m^3/kg\n",
    "# Título\n",
    "x10 = CP.PropsSI('Q', 'P', P10, 'H', h10, 'Water')"
   ]
  },
  {
   "cell_type": "markdown",
   "metadata": {},
   "source": [
    "#### Estado 11"
   ]
  },
  {
   "cell_type": "markdown",
   "metadata": {},
   "source": [
    "Conserva as propriedades do **estado 10** após a válvula **V2**."
   ]
  },
  {
   "cell_type": "code",
   "execution_count": 30,
   "metadata": {},
   "outputs": [],
   "source": [
    "# Pressão\n",
    "P11 = P10\n",
    "# Temperatura\n",
    "T11 = T10\n",
    "# Entalpia\n",
    "h11 = h10\n",
    "# Entropia\n",
    "s11 = s10\n",
    "# Volume específico\n",
    "v11 = v10\n",
    "# Título\n",
    "x11 = x10"
   ]
  }
 ],
 "metadata": {
  "kernelspec": {
   "display_name": "Python 3",
   "language": "python",
   "name": "python3"
  },
  "language_info": {
   "codemirror_mode": {
    "name": "ipython",
    "version": 3
   },
   "file_extension": ".py",
   "mimetype": "text/x-python",
   "name": "python",
   "nbconvert_exporter": "python",
   "pygments_lexer": "ipython3",
   "version": "3.6.5"
  }
 },
 "nbformat": 4,
 "nbformat_minor": 2
}
