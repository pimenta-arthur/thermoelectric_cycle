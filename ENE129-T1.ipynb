{
 "cells": [
  {
   "cell_type": "markdown",
   "metadata": {},
   "source": [
    "# ENE129 - T1"
   ]
  },
  {
   "cell_type": "code",
   "execution_count": 1,
   "metadata": {},
   "outputs": [],
   "source": [
    "import CoolProp\n",
    "import CoolProp.CoolProp as CP\n",
    "from CoolProp.Plots import PropertyPlot\n",
    "import numpy as np\n",
    "import pandas as pd\n",
    "import matplotlib.pyplot as plt\n",
    "%matplotlib inline"
   ]
  },
  {
   "cell_type": "markdown",
   "metadata": {},
   "source": [
    "## 2 Ciclo a vapor"
   ]
  },
  {
   "cell_type": "markdown",
   "metadata": {},
   "source": [
    "### 2.1 Primeira lei"
   ]
  },
  {
   "cell_type": "markdown",
   "metadata": {},
   "source": [
    "#### Estado 1"
   ]
  },
  {
   "cell_type": "markdown",
   "metadata": {},
   "source": [
    "Dados fornecidos:"
   ]
  },
  {
   "cell_type": "code",
   "execution_count": 2,
   "metadata": {},
   "outputs": [],
   "source": [
    "# Pressão\n",
    "P1 = 125*1e5 #Pa\n",
    "# Temperatura\n",
    "T1 = 823.15 #K"
   ]
  },
  {
   "cell_type": "markdown",
   "metadata": {},
   "source": [
    "Cálculos:"
   ]
  },
  {
   "cell_type": "code",
   "execution_count": 3,
   "metadata": {},
   "outputs": [],
   "source": [
    "# Entalpia\n",
    "h1 = CP.PropsSI('H', 'T', T1, 'P', P1, 'Water') #J/Kg\n",
    "# Volume específico\n",
    "v1 = 1/CP.PropsSI('D', 'T', T1, 'P', P1, 'Water') #m^3/kg\n",
    "# Entropia\n",
    "s1 = CP.PropsSI('S', 'T', T1, 'P', P1, 'Water') #J/kg*K\n",
    "# Título\n",
    "x1 = CP.PropsSI('Q', 'T', T1, 'P', P1, 'Water')"
   ]
  },
  {
   "cell_type": "markdown",
   "metadata": {},
   "source": [
    "#### Estado 2"
   ]
  },
  {
   "cell_type": "markdown",
   "metadata": {},
   "source": [
    "Dados fornecidos:"
   ]
  },
  {
   "cell_type": "code",
   "execution_count": 4,
   "metadata": {},
   "outputs": [],
   "source": [
    "# Pressão\n",
    "HP1 = 45*1e5 #Pa\n",
    "P2 = HP1\n",
    "# Rendimento isentrópico\n",
    "ntv = 0.90 #Estágios da turbina a vapor"
   ]
  },
  {
   "cell_type": "markdown",
   "metadata": {},
   "source": [
    "Cálculos:"
   ]
  },
  {
   "cell_type": "code",
   "execution_count": 5,
   "metadata": {},
   "outputs": [],
   "source": [
    "# Isentrópico\n",
    "s2s = s1\n",
    "h2s = CP.PropsSI('H', 'P', P2, 'S', s2s, 'Water') #J/kg\n",
    "# Entalpia\n",
    "# Temos: ntv = Wr/Ws = (h1-h2)/(h1-h2s) \n",
    "h2 = h1-(ntv*(h1-h2s)) #J/Kg\n",
    "# Entropia\n",
    "s2 = CP.PropsSI('S', 'P', P2, 'H', h2, 'Water') #J/kg*K\n",
    "# Temperatura\n",
    "T2 = CP.PropsSI('T', 'P', P2, 'H', h2, 'Water') #K\n",
    "# Volume específico\n",
    "v2 = 1/CP.PropsSI('D', 'P', P2, 'H', h2, 'Water') #m^3/kg\n",
    "# Título\n",
    "x2 = CP.PropsSI('Q', 'P', P2, 'H', h2, 'Water')"
   ]
  },
  {
   "cell_type": "markdown",
   "metadata": {},
   "source": [
    "#### Estado 3"
   ]
  },
  {
   "cell_type": "markdown",
   "metadata": {},
   "source": [
    "Dados fornecidos:"
   ]
  },
  {
   "cell_type": "code",
   "execution_count": 6,
   "metadata": {},
   "outputs": [],
   "source": [
    "# Pressão\n",
    "HP2 = 25*1e5 #Pa\n",
    "P3 = HP2\n",
    "# Rendimento isentrópico\n",
    "ntv = 0.90 #Estágios da turbina a vapor"
   ]
  },
  {
   "cell_type": "markdown",
   "metadata": {},
   "source": [
    "Cálculos:"
   ]
  },
  {
   "cell_type": "code",
   "execution_count": 7,
   "metadata": {},
   "outputs": [],
   "source": [
    "# Isentrópico\n",
    "s3s = s2\n",
    "h3s = CP.PropsSI('H', 'P', P3, 'S', s3s, 'Water') #J/kg\n",
    "# Entalpia\n",
    "# Temos: ntv = Wr/Ws = (h2-h3)/(h2-h3s) \n",
    "h3 = h2-(ntv*(h2-h3s)) #J/Kg\n",
    "# Entropia\n",
    "s3 = CP.PropsSI('S', 'P', P3, 'H', h3, 'Water') #J/kg*K\n",
    "# Temperatura\n",
    "T3 = CP.PropsSI('T', 'P', P3, 'H', h3, 'Water') #K\n",
    "# Volume específico\n",
    "v3 = 1/CP.PropsSI('D', 'P', P3, 'H', h3, 'Water') #m^3/kg\n",
    "# Título\n",
    "x3 = CP.PropsSI('Q', 'P', P3, 'H', h3, 'Water')"
   ]
  },
  {
   "cell_type": "markdown",
   "metadata": {},
   "source": [
    "#### Estado 4"
   ]
  },
  {
   "cell_type": "markdown",
   "metadata": {},
   "source": [
    "Dados fornecidos:"
   ]
  },
  {
   "cell_type": "code",
   "execution_count": 8,
   "metadata": {},
   "outputs": [],
   "source": [
    "# Pressão\n",
    "LP1 = 7*1e5 #Pa\n",
    "P4 = LP1\n",
    "# Rendimento isentrópico\n",
    "ntv = 0.90 #Estágios da turbina a vapor"
   ]
  },
  {
   "cell_type": "markdown",
   "metadata": {},
   "source": [
    "Cálculos:"
   ]
  },
  {
   "cell_type": "code",
   "execution_count": 9,
   "metadata": {},
   "outputs": [],
   "source": [
    "# Isentrópico\n",
    "s4s = s3\n",
    "h4s = CP.PropsSI('H', 'P', P4, 'S', s4s, 'Water') #J/kg\n",
    "# Entalpia\n",
    "# Temos: ntv = Wr/Ws = (h3-h4)/(h3-h4s) \n",
    "h4 = h3-(ntv*(h3-h4s)) #J/Kg\n",
    "# Entropia\n",
    "s4 = CP.PropsSI('S', 'P', P4, 'H', h4, 'Water') #J/kg*K\n",
    "# Temperatura\n",
    "T4 = CP.PropsSI('T', 'P', P4, 'H', h4, 'Water') #K\n",
    "# Volume específico\n",
    "v4 = 1/CP.PropsSI('D', 'P', P4, 'H', h4, 'Water') #m^3/kg\n",
    "# Título\n",
    "x4 = CP.PropsSI('Q', 'P', P4, 'H', h4, 'Water')"
   ]
  },
  {
   "cell_type": "markdown",
   "metadata": {},
   "source": [
    "#### Estado 5"
   ]
  },
  {
   "cell_type": "markdown",
   "metadata": {},
   "source": [
    "Conserva as propriedades intensivas do **estado 4** após o divisor **D2**."
   ]
  },
  {
   "cell_type": "code",
   "execution_count": 10,
   "metadata": {},
   "outputs": [],
   "source": [
    "# Pressão\n",
    "P5 = P4\n",
    "# Temperatura\n",
    "T5 = T4\n",
    "# Entalpia\n",
    "h5 = h4 #Extensiva\n",
    "# Entropia\n",
    "s5 = s4 #Extensiva\n",
    "# Volume específico\n",
    "v5 = v4\n",
    "# Título\n",
    "x5 = x4"
   ]
  },
  {
   "cell_type": "markdown",
   "metadata": {},
   "source": [
    "#### Estado 6"
   ]
  },
  {
   "cell_type": "markdown",
   "metadata": {},
   "source": [
    "Conserva as propriedades intensivas do **estado 4** após o divisor **D2**."
   ]
  },
  {
   "cell_type": "code",
   "execution_count": 11,
   "metadata": {},
   "outputs": [],
   "source": [
    "# Pressão\n",
    "P6 = P4\n",
    "# Temperatura\n",
    "T6 = T4\n",
    "# Entalpia\n",
    "h6 = h4 #Extensiva\n",
    "# Entropia\n",
    "s6 = s4 #Extensiva\n",
    "# Volume específico\n",
    "v6 = v4\n",
    "# Título\n",
    "x6 = x4"
   ]
  },
  {
   "cell_type": "markdown",
   "metadata": {},
   "source": [
    "#### Estado 8"
   ]
  },
  {
   "cell_type": "markdown",
   "metadata": {},
   "source": [
    "Dados fornecidos:"
   ]
  },
  {
   "cell_type": "code",
   "execution_count": 12,
   "metadata": {},
   "outputs": [],
   "source": [
    "# Pressão\n",
    "LP2 = 0.3*1e5 #Pa\n",
    "P8 = LP2\n",
    "# Rendimento isentrópico\n",
    "ntv = 0.90 #Estágios da turbina a vapor"
   ]
  },
  {
   "cell_type": "markdown",
   "metadata": {},
   "source": [
    "Cálculos:"
   ]
  },
  {
   "cell_type": "code",
   "execution_count": 13,
   "metadata": {},
   "outputs": [],
   "source": [
    "# Isentrópico\n",
    "s8s = s5\n",
    "h8s = CP.PropsSI('H', 'P', P8, 'S', s8s, 'Water') #J/kg\n",
    "# Entalpia\n",
    "# Temos: ntv = Wr/Ws = (h5-h8)/(h5-h8s) \n",
    "h8 = h5-(ntv*(h5-h8s)) #J/Kg\n",
    "# Entropia\n",
    "s8 = CP.PropsSI('S', 'P', P8, 'H', h8, 'Water') #J/kg*K\n",
    "# Temperatura\n",
    "T8 = CP.PropsSI('T', 'P', P8, 'H', h8, 'Water') #K\n",
    "# Volume específico\n",
    "v8 = 1/CP.PropsSI('D', 'P', P8, 'H', h8, 'Water') #m^3/kg\n",
    "# Título\n",
    "x8 = CP.PropsSI('Q', 'P', P8, 'H', h8, 'Water')"
   ]
  },
  {
   "cell_type": "markdown",
   "metadata": {},
   "source": [
    "#### Estado 9"
   ]
  },
  {
   "cell_type": "markdown",
   "metadata": {},
   "source": [
    "Líquido saturado na saída do **condensador**."
   ]
  },
  {
   "cell_type": "code",
   "execution_count": 14,
   "metadata": {},
   "outputs": [],
   "source": [
    "# Pressão\n",
    "P9 = P8 #Pa\n",
    "# Temperatura\n",
    "T9 = T8 #K\n",
    "# Título\n",
    "x9 = 0 #Água saturada\n",
    "# Entalpia\n",
    "h9 = CP.PropsSI('H', 'P', P9, 'Q', x9, 'Water') #J/kg\n",
    "# Entropia\n",
    "s9 = CP.PropsSI('S', 'P', P9, 'Q', x9, 'Water') #J/kg\n",
    "# Volume específico\n",
    "v9 = 1/CP.PropsSI('D', 'P', P9, 'Q', x9, 'Water') #J/kg\n"
   ]
  },
  {
   "cell_type": "markdown",
   "metadata": {},
   "source": [
    "#### Estado 10"
   ]
  },
  {
   "cell_type": "markdown",
   "metadata": {},
   "source": [
    "Dados fornecidos:"
   ]
  },
  {
   "cell_type": "code",
   "execution_count": 15,
   "metadata": {},
   "outputs": [],
   "source": [
    "# Pressão\n",
    "P10 = 10*1e5 #Pa\n",
    "# Rendimento isentrópico\n",
    "nb = 0.85 #Bomba"
   ]
  },
  {
   "cell_type": "markdown",
   "metadata": {},
   "source": [
    "Cálculos:"
   ]
  },
  {
   "cell_type": "code",
   "execution_count": 16,
   "metadata": {},
   "outputs": [],
   "source": [
    "# Isentrópico\n",
    "s10s = s9\n",
    "h10s = CP.PropsSI('H', 'P', P10, 'S', s10s, 'Water') #J/kg\n",
    "# Entalpia\n",
    "# Temos: nb = Wr/Ws = (h10s-h9)/(h10-h9) \n",
    "h10 = ((h10s-h9)/nb)+h9 #J/Kg\n",
    "# Entropia\n",
    "s10 = CP.PropsSI('S', 'P', P10, 'H', h10, 'Water') #J/kg*K\n",
    "# Temperatura\n",
    "T10 = CP.PropsSI('T', 'P', P10, 'H', h10, 'Water') #K\n",
    "# Volume específico\n",
    "v10 = 1/CP.PropsSI('D', 'P', P10, 'H', h10, 'Water') #m^3/kg\n",
    "# Título\n",
    "x10 = CP.PropsSI('Q', 'P', P10, 'H', h10, 'Water')"
   ]
  },
  {
   "cell_type": "markdown",
   "metadata": {},
   "source": [
    "#### Estado 12"
   ]
  },
  {
   "cell_type": "markdown",
   "metadata": {},
   "source": [
    "Dados fornecidos:"
   ]
  },
  {
   "cell_type": "code",
   "execution_count": 17,
   "metadata": {},
   "outputs": [],
   "source": [
    "# Pressão\n",
    "P12 = 2*1e5 #Pa \n",
    "# Temperatura\n",
    "T12 = 303.15 #ºC"
   ]
  },
  {
   "cell_type": "markdown",
   "metadata": {},
   "source": [
    "Cálculos:"
   ]
  },
  {
   "cell_type": "code",
   "execution_count": 18,
   "metadata": {},
   "outputs": [],
   "source": [
    "# Entalpia \n",
    "h12 = CP.PropsSI('H', 'P', P12, 'T', T12, 'Water') #J/kg\n",
    "# Entropia\n",
    "s12 = CP.PropsSI('S', 'P', P12, 'T', T12, 'Water') #J/kg*K\n",
    "# Volume específico\n",
    "v12 = 1/CP.PropsSI('D', 'P', P12, 'T', T12, 'Water') #m^3/kg\n",
    "# Título\n",
    "x12 = CP.PropsSI('Q', 'P', P12, 'T', T12, 'Water')"
   ]
  },
  {
   "cell_type": "markdown",
   "metadata": {},
   "source": [
    "#### Estado 11"
   ]
  },
  {
   "cell_type": "markdown",
   "metadata": {},
   "source": [
    "Conserva as propriedades do **estado 10** após a válvula **V2**."
   ]
  },
  {
   "cell_type": "code",
   "execution_count": 19,
   "metadata": {},
   "outputs": [],
   "source": [
    "# Pressão\n",
    "P12 = 2*1e5 #Pa \n",
    "P11 = P12\n",
    "# Entalpia\n",
    "h11 = h10"
   ]
  },
  {
   "cell_type": "code",
   "execution_count": 20,
   "metadata": {},
   "outputs": [],
   "source": [
    "# Entropia\n",
    "s11 = CP.PropsSI('S', 'P', P11, 'H', h11, 'Water') #J/kg*K\n",
    "# Volume específico\n",
    "v11 = 1/CP.PropsSI('D', 'P', P11, 'H', h11, 'Water') #m^3/kg\n",
    "# Título\n",
    "x11 = CP.PropsSI('Q', 'P', P11, 'H', h11, 'Water') #J/kg*K\n",
    "# Temperatura\n",
    "T11 = CP.PropsSI('T', 'P', P11, 'H', h11, 'Water') #J/kg*K"
   ]
  },
  {
   "cell_type": "markdown",
   "metadata": {},
   "source": [
    "#### Estado 13"
   ]
  },
  {
   "cell_type": "markdown",
   "metadata": {},
   "source": [
    "Conserva as propriedades do **estado 10** após a válvula **V2**."
   ]
  },
  {
   "cell_type": "code",
   "execution_count": 21,
   "metadata": {},
   "outputs": [],
   "source": [
    "# Pressão\n",
    "P13 = P12\n",
    "# Entalpia\n",
    "h13 = h11"
   ]
  },
  {
   "cell_type": "code",
   "execution_count": 22,
   "metadata": {},
   "outputs": [],
   "source": [
    "# Entropia\n",
    "s13 = CP.PropsSI('S', 'P', P13, 'H', h13, 'Water') #J/kg*K\n",
    "# Volume específico\n",
    "v13 = 1/CP.PropsSI('D', 'P', P13, 'H', h13, 'Water') #m^3/kg\n",
    "# Título\n",
    "x13 = CP.PropsSI('Q', 'P', P13, 'H', h13, 'Water') \n",
    "# Temperatura\n",
    "T13 = CP.PropsSI('T', 'P', P13, 'H', h13, 'Water') #K"
   ]
  },
  {
   "cell_type": "markdown",
   "metadata": {},
   "source": [
    "#### Estado 7"
   ]
  },
  {
   "cell_type": "markdown",
   "metadata": {},
   "source": [
    "Conserva as propriedades do **estado 6** após a válvula **V1**."
   ]
  },
  {
   "cell_type": "code",
   "execution_count": 23,
   "metadata": {},
   "outputs": [],
   "source": [
    "# Pressão\n",
    "P7 = P13\n",
    "# Entalpia\n",
    "h7 = h6"
   ]
  },
  {
   "cell_type": "code",
   "execution_count": 24,
   "metadata": {},
   "outputs": [],
   "source": [
    "# Entropia\n",
    "s7 = CP.PropsSI('S', 'P', P7, 'H', h7, 'Water') #J/kg*K\n",
    "# Volume específico\n",
    "v7 = 1/CP.PropsSI('D', 'P', P7, 'H', h7, 'Water') #m^3/kg\n",
    "# Título\n",
    "x7 = CP.PropsSI('Q', 'P', P7, 'H', h7, 'Water') \n",
    "# Temperatura\n",
    "T7 = CP.PropsSI('T', 'P', P7, 'H', h7, 'Water') #K"
   ]
  },
  {
   "cell_type": "markdown",
   "metadata": {},
   "source": [
    "#### Estado 14"
   ]
  },
  {
   "cell_type": "markdown",
   "metadata": {},
   "source": [
    "Conserva as propriedades do **estado 10** após a válvula **V2**."
   ]
  },
  {
   "cell_type": "code",
   "execution_count": 25,
   "metadata": {},
   "outputs": [],
   "source": [
    "# Pressão\n",
    "P14 = 2*1e5 #Pa\n",
    "# Título \n",
    "x14 = 0"
   ]
  },
  {
   "cell_type": "code",
   "execution_count": 26,
   "metadata": {},
   "outputs": [],
   "source": [
    "# Entropia\n",
    "s14 = CP.PropsSI('S', 'P', P14, 'Q', x14, 'Water') #J/kg*K\n",
    "# Volume específico\n",
    "v14 = 1/CP.PropsSI('S', 'P', P14, 'Q', x14, 'Water') #m^3/kg\n",
    "# Temperatura\n",
    "T14 = CP.PropsSI('T', 'P', P14, 'Q', x14, 'Water') #K\n",
    "# Entalpia \n",
    "h14 = CP.PropsSI('H', 'P', P14, 'Q', x14, 'Water') #J/kg"
   ]
  },
  {
   "cell_type": "markdown",
   "metadata": {},
   "source": [
    "#### Estado 15"
   ]
  },
  {
   "cell_type": "markdown",
   "metadata": {},
   "source": [
    "Dados fornecidos:"
   ]
  },
  {
   "cell_type": "code",
   "execution_count": 27,
   "metadata": {},
   "outputs": [],
   "source": [
    "# Pressão\n",
    "P15 = 125*1e5 #Pa\n",
    "# Rendimento isentrópico\n",
    "nb = 0.85 #Bomba"
   ]
  },
  {
   "cell_type": "markdown",
   "metadata": {},
   "source": [
    "Cálculos:"
   ]
  },
  {
   "cell_type": "code",
   "execution_count": 28,
   "metadata": {},
   "outputs": [],
   "source": [
    "# Isentrópico\n",
    "s15s = s14\n",
    "h15s = CP.PropsSI('H', 'P', P15, 'S', s15s, 'Water') #J/kg\n",
    "# Entalpia\n",
    "# Temos: nb = Wr/Ws = (h10s-h9)/(h10-h9) \n",
    "h15 = ((h15s-h14)/nb)+h14 #J/Kg\n",
    "# Entropia\n",
    "s15 = CP.PropsSI('S', 'P', P15, 'H', h15, 'Water') #J/kg*K\n",
    "# Temperatura\n",
    "T15 = CP.PropsSI('T', 'P', P15, 'H', h15, 'Water') #K\n",
    "# Volume específico\n",
    "v15 = 1/CP.PropsSI('D', 'P', P15, 'H', h15, 'Water') #m^3/kg\n",
    "# Título\n",
    "x15 = CP.PropsSI('Q', 'P', P15, 'H', h15, 'Water')"
   ]
  },
  {
   "cell_type": "markdown",
   "metadata": {},
   "source": [
    "### 2.2  Tabela"
   ]
  },
  {
   "cell_type": "markdown",
   "metadata": {},
   "source": [
    "#### Construindo o DataFrame"
   ]
  },
  {
   "cell_type": "code",
   "execution_count": 29,
   "metadata": {},
   "outputs": [],
   "source": [
    "# Pressão de cada estado \n",
    "P_list = np.array([P1, P2, P3, P4, P5, P6, P7, P8, P9, P10, P11, P12, P13, P14, P15]) #Pa\n",
    "P_list = np.apply_along_axis(lambda x: x/1e5, 0, P_list) #Converte para Bar\n",
    "P_list = np.around(P_list, decimals=4)\n",
    "\n",
    "# Temperatura de cada estado\n",
    "T_list = np.array([T1, T2, T3, T4, T5, T6, T7, T8, T9, T10, T11, T12, T13, T14, T15]) #K\n",
    "T_list = np.apply_along_axis(lambda x: x-273.15, 0, T_list) #Converte para •C\n",
    "T_list = np.around(T_list, decimals=4)\n",
    "\n",
    "# Volume específico de cada estado\n",
    "v_list = np.array([v1, v2, v3, v4, v5, v6, v7, v8, v9, v10, v11, v12, v13, v14, v15]) #m^3/kg\n",
    "v_list = np.around(v_list, decimals=4)\n",
    "\n",
    "# Entalpia de cada estado\n",
    "h_list = np.array([h1, h2, h3, h4, h5, h6, h7, h8, h9, h10, h11, h12, h13, h14, h15]) #J/Kg\n",
    "h_list = np.apply_along_axis(lambda x: x*1e-3, 0, h_list) #Converte para KJ/Kg\n",
    "h_list = np.around(h_list, decimals=4)\n",
    "\n",
    "# Entropia de cada estado\n",
    "s_list = np.array([s1, s2, s3, s4, s5, s6, s7, s8, s9, s10, s11, s12, s13, s14, s15]) #J/Kg*K\n",
    "s_list = np.apply_along_axis(lambda x: x*1e-3, 0, s_list) #Converte para KJ/Kg*K\n",
    "s_list = np.around(s_list, decimals=4)\n",
    "\n",
    "# Título de cada estado\n",
    "x_list = np.array([x1, x2, x3, x4, x5, x6, x7, x8, x9, x10, x11, x12, x13, x4, x15])\n",
    "x_list = np.around(x_list, decimals=4)\n",
    "\n",
    "# Estados\n",
    "e_list = np.arange(1,16)"
   ]
  },
  {
   "cell_type": "code",
   "execution_count": 30,
   "metadata": {},
   "outputs": [
    {
     "data": {
      "text/html": [
       "<div>\n",
       "<style scoped>\n",
       "    .dataframe tbody tr th:only-of-type {\n",
       "        vertical-align: middle;\n",
       "    }\n",
       "\n",
       "    .dataframe tbody tr th {\n",
       "        vertical-align: top;\n",
       "    }\n",
       "\n",
       "    .dataframe thead th {\n",
       "        text-align: right;\n",
       "    }\n",
       "</style>\n",
       "<table border=\"1\" class=\"dataframe\">\n",
       "  <thead>\n",
       "    <tr style=\"text-align: right;\">\n",
       "      <th></th>\n",
       "      <th>Pressão (Bar)</th>\n",
       "      <th>Temperatura (ºC)</th>\n",
       "      <th>Volume.Específico (m^3/kg)</th>\n",
       "      <th>Entalpia (KJ/Kg)</th>\n",
       "      <th>Entropia (KJ/Kg*K)</th>\n",
       "      <th>Título</th>\n",
       "    </tr>\n",
       "    <tr>\n",
       "      <th>Estado</th>\n",
       "      <th></th>\n",
       "      <th></th>\n",
       "      <th></th>\n",
       "      <th></th>\n",
       "      <th></th>\n",
       "      <th></th>\n",
       "    </tr>\n",
       "  </thead>\n",
       "  <tbody>\n",
       "    <tr>\n",
       "      <th>1</th>\n",
       "      <td>125.0</td>\n",
       "      <td>550.0000</td>\n",
       "      <td>0.0280</td>\n",
       "      <td>3476.5146</td>\n",
       "      <td>6.6317</td>\n",
       "      <td>-1.0000</td>\n",
       "    </tr>\n",
       "    <tr>\n",
       "      <th>2</th>\n",
       "      <td>45.0</td>\n",
       "      <td>392.6201</td>\n",
       "      <td>0.0639</td>\n",
       "      <td>3187.7826</td>\n",
       "      <td>6.6804</td>\n",
       "      <td>-1.0000</td>\n",
       "    </tr>\n",
       "    <tr>\n",
       "      <th>3</th>\n",
       "      <td>25.0</td>\n",
       "      <td>314.9038</td>\n",
       "      <td>0.1022</td>\n",
       "      <td>3045.3047</td>\n",
       "      <td>6.7074</td>\n",
       "      <td>-1.0000</td>\n",
       "    </tr>\n",
       "    <tr>\n",
       "      <th>4</th>\n",
       "      <td>7.0</td>\n",
       "      <td>176.5299</td>\n",
       "      <td>0.2820</td>\n",
       "      <td>2791.1536</td>\n",
       "      <td>6.7711</td>\n",
       "      <td>-1.0000</td>\n",
       "    </tr>\n",
       "    <tr>\n",
       "      <th>5</th>\n",
       "      <td>7.0</td>\n",
       "      <td>176.5299</td>\n",
       "      <td>0.2820</td>\n",
       "      <td>2791.1536</td>\n",
       "      <td>6.7711</td>\n",
       "      <td>-1.0000</td>\n",
       "    </tr>\n",
       "    <tr>\n",
       "      <th>6</th>\n",
       "      <td>7.0</td>\n",
       "      <td>176.5299</td>\n",
       "      <td>0.2820</td>\n",
       "      <td>2791.1536</td>\n",
       "      <td>6.7711</td>\n",
       "      <td>-1.0000</td>\n",
       "    </tr>\n",
       "    <tr>\n",
       "      <th>7</th>\n",
       "      <td>2.0</td>\n",
       "      <td>160.7294</td>\n",
       "      <td>0.9860</td>\n",
       "      <td>2791.1536</td>\n",
       "      <td>7.3325</td>\n",
       "      <td>-1.0000</td>\n",
       "    </tr>\n",
       "    <tr>\n",
       "      <th>8</th>\n",
       "      <td>0.3</td>\n",
       "      <td>69.0952</td>\n",
       "      <td>4.5787</td>\n",
       "      <td>2334.2936</td>\n",
       "      <td>6.9194</td>\n",
       "      <td>0.8757</td>\n",
       "    </tr>\n",
       "    <tr>\n",
       "      <th>9</th>\n",
       "      <td>0.3</td>\n",
       "      <td>69.0952</td>\n",
       "      <td>0.0010</td>\n",
       "      <td>289.2730</td>\n",
       "      <td>0.9441</td>\n",
       "      <td>0.0000</td>\n",
       "    </tr>\n",
       "    <tr>\n",
       "      <th>10</th>\n",
       "      <td>10.0</td>\n",
       "      <td>69.1838</td>\n",
       "      <td>0.0010</td>\n",
       "      <td>290.4393</td>\n",
       "      <td>0.9446</td>\n",
       "      <td>-1.0000</td>\n",
       "    </tr>\n",
       "    <tr>\n",
       "      <th>11</th>\n",
       "      <td>2.0</td>\n",
       "      <td>69.3403</td>\n",
       "      <td>0.0010</td>\n",
       "      <td>290.4393</td>\n",
       "      <td>0.9470</td>\n",
       "      <td>-1.0000</td>\n",
       "    </tr>\n",
       "    <tr>\n",
       "      <th>12</th>\n",
       "      <td>2.0</td>\n",
       "      <td>30.0000</td>\n",
       "      <td>0.0010</td>\n",
       "      <td>125.9125</td>\n",
       "      <td>0.4367</td>\n",
       "      <td>-1.0000</td>\n",
       "    </tr>\n",
       "    <tr>\n",
       "      <th>13</th>\n",
       "      <td>2.0</td>\n",
       "      <td>69.3403</td>\n",
       "      <td>0.0010</td>\n",
       "      <td>290.4393</td>\n",
       "      <td>0.9470</td>\n",
       "      <td>-1.0000</td>\n",
       "    </tr>\n",
       "    <tr>\n",
       "      <th>14</th>\n",
       "      <td>2.0</td>\n",
       "      <td>120.2101</td>\n",
       "      <td>0.0007</td>\n",
       "      <td>504.7042</td>\n",
       "      <td>1.5302</td>\n",
       "      <td>-1.0000</td>\n",
       "    </tr>\n",
       "    <tr>\n",
       "      <th>15</th>\n",
       "      <td>125.0</td>\n",
       "      <td>121.7811</td>\n",
       "      <td>0.0011</td>\n",
       "      <td>520.0078</td>\n",
       "      <td>1.5360</td>\n",
       "      <td>-1.0000</td>\n",
       "    </tr>\n",
       "  </tbody>\n",
       "</table>\n",
       "</div>"
      ],
      "text/plain": [
       "        Pressão (Bar)  Temperatura (ºC)  Volume.Específico (m^3/kg)  \\\n",
       "Estado                                                                \n",
       "1               125.0          550.0000                      0.0280   \n",
       "2                45.0          392.6201                      0.0639   \n",
       "3                25.0          314.9038                      0.1022   \n",
       "4                 7.0          176.5299                      0.2820   \n",
       "5                 7.0          176.5299                      0.2820   \n",
       "6                 7.0          176.5299                      0.2820   \n",
       "7                 2.0          160.7294                      0.9860   \n",
       "8                 0.3           69.0952                      4.5787   \n",
       "9                 0.3           69.0952                      0.0010   \n",
       "10               10.0           69.1838                      0.0010   \n",
       "11                2.0           69.3403                      0.0010   \n",
       "12                2.0           30.0000                      0.0010   \n",
       "13                2.0           69.3403                      0.0010   \n",
       "14                2.0          120.2101                      0.0007   \n",
       "15              125.0          121.7811                      0.0011   \n",
       "\n",
       "        Entalpia (KJ/Kg)  Entropia (KJ/Kg*K)  Título  \n",
       "Estado                                                \n",
       "1              3476.5146              6.6317 -1.0000  \n",
       "2              3187.7826              6.6804 -1.0000  \n",
       "3              3045.3047              6.7074 -1.0000  \n",
       "4              2791.1536              6.7711 -1.0000  \n",
       "5              2791.1536              6.7711 -1.0000  \n",
       "6              2791.1536              6.7711 -1.0000  \n",
       "7              2791.1536              7.3325 -1.0000  \n",
       "8              2334.2936              6.9194  0.8757  \n",
       "9               289.2730              0.9441  0.0000  \n",
       "10              290.4393              0.9446 -1.0000  \n",
       "11              290.4393              0.9470 -1.0000  \n",
       "12              125.9125              0.4367 -1.0000  \n",
       "13              290.4393              0.9470 -1.0000  \n",
       "14              504.7042              1.5302 -1.0000  \n",
       "15              520.0078              1.5360 -1.0000  "
      ]
     },
     "execution_count": 30,
     "metadata": {},
     "output_type": "execute_result"
    }
   ],
   "source": [
    "data = {'Pressão (Bar)': P_list, \n",
    "        'Temperatura (ºC)': T_list, \n",
    "        'Volume.Específico (m^3/kg)': v_list,\n",
    "        'Entalpia (KJ/Kg)': h_list,\n",
    "        'Entropia (KJ/Kg*K)': s_list,\n",
    "        'Estado': e_list,\n",
    "        'Título': x_list}\n",
    "\n",
    "df_2 = pd.DataFrame.from_dict(data)\n",
    "df_2.set_index('Estado')"
   ]
  },
  {
   "cell_type": "markdown",
   "metadata": {},
   "source": [
    "### 2.3 Gráfico Ts"
   ]
  },
  {
   "cell_type": "code",
   "execution_count": 31,
   "metadata": {},
   "outputs": [],
   "source": [
    "def f_iso(s, p, fluid):\n",
    "    return CP.PropsSI('T', 'P', p, 'S', s*1e3, fluid)\n",
    "\n",
    "def f_titulo(s, q, fluid):\n",
    "    return CP.PropsSI('T', 'Q', q, 'S', s*1e3, fluid)"
   ]
  },
  {
   "cell_type": "code",
   "execution_count": 32,
   "metadata": {},
   "outputs": [
    {
     "name": "stderr",
     "output_type": "stream",
     "text": [
      "/Users/tuzey/anaconda3/lib/python3.7/site-packages/CoolProp/Plots/Common.py:610: UserWarning: Please use \"calc_sat_range\" to calculate saturation and isoquality lines. Input ranges are discarded.\n",
      "  UserWarning)\n",
      "/Users/tuzey/anaconda3/lib/python3.7/site-packages/CoolProp/Plots/Common.py:610: UserWarning: Please use \"calc_sat_range\" to calculate saturation and isoquality lines. Input ranges are discarded.\n",
      "  UserWarning)\n",
      "/Users/tuzey/anaconda3/lib/python3.7/site-packages/CoolProp/Plots/Plots.py:217: UserWarning: Detected an incomplete phase envelope, fixing it numerically.\n",
      "  warnings.warn(\"Detected an incomplete phase envelope, fixing it numerically.\")\n"
     ]
    },
    {
     "data": {
      "text/plain": [
       "<Figure size 720x576 with 0 Axes>"
      ]
     },
     "metadata": {},
     "output_type": "display_data"
    },
    {
     "name": "stderr",
     "output_type": "stream",
     "text": [
      "/Users/tuzey/anaconda3/lib/python3.7/site-packages/matplotlib/figure.py:2299: UserWarning: This figure includes Axes that are not compatible with tight_layout, so results might be incorrect.\n",
      "  warnings.warn(\"This figure includes Axes that are not compatible \"\n"
     ]
    },
    {
     "data": {
      "image/png": "[encoded data removed]",
      "text/plain": [
       "<Figure size 432x288 with 1 Axes>"
      ]
     },
     "metadata": {
      "needs_background": "light"
     },
     "output_type": "display_data"
    }
   ],
   "source": [
    "iso_1 = 1.013*1e5 #bar\n",
    "iso_2 = 30*1e5 #bar\n",
    "\n",
    "# fig, ax = plt.subplots(figsize=(15,15))\n",
    "plt.figure(figsize=(10,8))\n",
    "\n",
    "# título 1\n",
    "ts_plot = PropertyPlot('Water', 'Ts', tp_limits='ORC')\n",
    "ts_plot.calc_isolines(CoolProp.iQ, num=2)\n",
    "# ts_plot.show()\n",
    "\n",
    "# isobáricas\n",
    "iso_range = df_2.iloc[:,0].unique()\n",
    "for iso in iso_range:  \n",
    "    x_1 = np.arange(0, 10, 0.2)\n",
    "    y_1 = f_iso(x_1, iso*1e5, 'Water')\n",
    "    plt.plot(x_1, y_1)\n",
    "\n",
    "# estados\n",
    "x_range = df_2.iloc[:,4]\n",
    "y_range = df_2.iloc[:,1].map(lambda x: x+273.15)\n",
    "# ax.scatter(df_2.iloc[:,4], df_2.iloc[:,1].map(lambda x: x+273.15))\n",
    "\n",
    "for txt, x, y in zip(df_2.index, x_range, y_range):\n",
    "    plt.scatter(x, y)\n",
    "    plt.annotate(txt+1, [x-0.3, y-0.3])\n",
    "    \n",
    "plt.ylim(200, 1100)\n",
    "ts_plot.show()"
   ]
  },
  {
   "cell_type": "markdown",
   "metadata": {},
   "source": [
    "### 2.4 Vazão mássica"
   ]
  },
  {
   "cell_type": "code",
   "execution_count": 33,
   "metadata": {},
   "outputs": [],
   "source": [
    "# vazão mássica na turbina\n",
    "m1 = 200 #Kg/s\n",
    "\n",
    "# m1 a m4\n",
    "m2 = m3 = m4 = m1\n",
    "\n",
    "# balaço energético no divisor D2\n",
    "# m14*h14 = m7*h7 + m13*h13\n",
    "m7 = 17.1362\n",
    "m8 = 182.8632\n",
    "\n",
    "m6 = m7\n",
    "\n",
    "m9 = m10 = m11= m13 = m5 = m8\n",
    "\n",
    "# água de recomposição não é utilizada, pois não tem perda de água no ciclo\n",
    "m12 = 0\n",
    "\n",
    "m14 = m7 + m13\n",
    "\n",
    "m15 = m14"
   ]
  },
  {
   "cell_type": "markdown",
   "metadata": {},
   "source": [
    "### 2.5 Trabalho"
   ]
  },
  {
   "cell_type": "code",
   "execution_count": 34,
   "metadata": {},
   "outputs": [],
   "source": [
    "# turbina hp1\n",
    "w_hp1 = (h1-h2)*m1*1e-3 #KW\n",
    "\n",
    "# turbina hp2\n",
    "w_hp2 = (h2-h3)*m2*1e-3 #KW\n",
    "\n",
    "# turbina lp1\n",
    "w_lp1 = (h3-h4)*m3*1e-3 #KW\n",
    "\n",
    "# turbina lp2\n",
    "w_lp2 = (h5-h8)*m5*1e-3 #KW\n",
    "\n",
    "# compressor\n",
    "q_cd = (h8-h9)*m8*1e-3 #KW\n",
    "\n",
    "# bomba 1\n",
    "w_b1 = (h10-h9)*m9*1e-3 #KW\n",
    "\n",
    "# bomba 2\n",
    "w_b2 = (h15-h14)*m14*1e-3 #KW"
   ]
  },
  {
   "cell_type": "markdown",
   "metadata": {},
   "source": [
    "# 1 Ciclo a gás "
   ]
  },
  {
   "cell_type": "markdown",
   "metadata": {},
   "source": [
    "## 1.1 Primeira lei"
   ]
  },
  {
   "cell_type": "markdown",
   "metadata": {},
   "source": [
    "#### Estado 1"
   ]
  },
  {
   "cell_type": "markdown",
   "metadata": {},
   "source": [
    "Dados fornecidos:"
   ]
  },
  {
   "cell_type": "code",
   "execution_count": 35,
   "metadata": {},
   "outputs": [],
   "source": [
    "# Pressão\n",
    "P1 = 1.013*1e5 #Pa\n",
    "# Temperatura\n",
    "T1 = 303.15 #K"
   ]
  },
  {
   "cell_type": "markdown",
   "metadata": {},
   "source": [
    "Cálculos:"
   ]
  },
  {
   "cell_type": "code",
   "execution_count": 36,
   "metadata": {},
   "outputs": [],
   "source": [
    "# Entalpia\n",
    "h1 = CP.PropsSI('H', 'T', T1, 'P', P1, 'Air') #J/Kg\n",
    "# Volume específico\n",
    "v1 = 1/CP.PropsSI('D', 'T', T1, 'P', P1, 'Air') #m^3/kg\n",
    "# Entropia\n",
    "s1 = CP.PropsSI('S', 'T', T1, 'P', P1, 'Air') #J/kg*K"
   ]
  },
  {
   "cell_type": "markdown",
   "metadata": {},
   "source": [
    "#### Estado 2"
   ]
  },
  {
   "cell_type": "markdown",
   "metadata": {},
   "source": [
    "Dados fornecidos:"
   ]
  },
  {
   "cell_type": "code",
   "execution_count": 37,
   "metadata": {},
   "outputs": [],
   "source": [
    "# Pressão\n",
    "P2 = 30*1e5 #Pa\n",
    "# Rendimento isentrópico\n",
    "nc = 0.86 #Compressor"
   ]
  },
  {
   "cell_type": "markdown",
   "metadata": {},
   "source": [
    "Cálculos:"
   ]
  },
  {
   "cell_type": "code",
   "execution_count": 38,
   "metadata": {},
   "outputs": [],
   "source": [
    "# Isentrópico\n",
    "s2s = s1\n",
    "h2s = CP.PropsSI('H', 'P', P2, 'S', s2s, 'Air') #J/kg\n",
    "# Entalpia\n",
    "# Temos: nc = Ws/Wr = (h2s-h1)/(h2-h1)\n",
    "h2 = ((h2s-h1)/nc)+h1 #J/Kg\n",
    "# Temperatura\n",
    "T2 = CP.PropsSI('T', 'P', P2, 'H', h2, 'Air') #K\n",
    "# Entropia\n",
    "s2 = CP.PropsSI('S', 'P', P2, 'H', h2, 'Air') #J/kg*K\n",
    "# Volume específico\n",
    "v2 = 1/CP.PropsSI('D', 'P', P2, 'H', h2, 'Air') #m^3/kg"
   ]
  },
  {
   "cell_type": "markdown",
   "metadata": {},
   "source": [
    "####  Estado 3"
   ]
  },
  {
   "cell_type": "markdown",
   "metadata": {},
   "source": [
    "Dados fornecidos:"
   ]
  },
  {
   "cell_type": "code",
   "execution_count": 39,
   "metadata": {},
   "outputs": [],
   "source": [
    "# Temperatura\n",
    "T3 = 1573.15 #K\n",
    "# Pressão constante no aquecimento\n",
    "P3 = P2 #Pa"
   ]
  },
  {
   "cell_type": "markdown",
   "metadata": {},
   "source": [
    "Cálculos:"
   ]
  },
  {
   "cell_type": "code",
   "execution_count": 40,
   "metadata": {},
   "outputs": [],
   "source": [
    "# Entalpia\n",
    "h3 = CP.PropsSI('H', 'T', T3, 'P', P3, 'Air') #J/Kg\n",
    "# Entropia\n",
    "s3 = CP.PropsSI('S', 'T', T3, 'P', P3, 'Air') #J/kg*K\n",
    "# Volume específico\n",
    "v3 = 1/CP.PropsSI('D', 'T', T3, 'P', P3, 'Air') #m^3/kg"
   ]
  },
  {
   "cell_type": "markdown",
   "metadata": {},
   "source": [
    "####  Estado 4"
   ]
  },
  {
   "cell_type": "markdown",
   "metadata": {},
   "source": [
    "Dados fornecidos:"
   ]
  },
  {
   "cell_type": "code",
   "execution_count": 41,
   "metadata": {},
   "outputs": [],
   "source": [
    "# Rejeição de calor a pressão constante\n",
    "# Pressão\n",
    "P4 = 1.013*1e5 #Pa\n",
    "# Rendimento isentrópico\n",
    "ntg = 0.90 #Turbina a gás"
   ]
  },
  {
   "cell_type": "markdown",
   "metadata": {},
   "source": [
    "Cálculos:"
   ]
  },
  {
   "cell_type": "code",
   "execution_count": 42,
   "metadata": {},
   "outputs": [],
   "source": [
    "# Isentrópico\n",
    "s4s = s3\n",
    "h4s = CP.PropsSI('H', 'P', P4, 'S', s4s, 'Air') #J/kg\n",
    "# Entalpia\n",
    "# Temos: ntg = Wr/Ws = (h3-h4)/(h3-h4s) \n",
    "h4 = h3-(ntg*(h3-h4s)) #J/Kg\n",
    "# Entropia\n",
    "s4 = CP.PropsSI('S', 'P', P4, 'H', h4, 'Air') #J/kg*K\n",
    "# Temperatura\n",
    "T4 = CP.PropsSI('T', 'P', P4, 'H', h4, 'Air') #K\n",
    "# Volume específico\n",
    "v4 = 1/CP.PropsSI('D', 'P', P4, 'H', h4, 'Air') #m^3/kg"
   ]
  },
  {
   "cell_type": "markdown",
   "metadata": {},
   "source": [
    "#### Estado 5"
   ]
  },
  {
   "cell_type": "markdown",
   "metadata": {},
   "source": [
    "Dados fornecidos:"
   ]
  },
  {
   "cell_type": "code",
   "execution_count": 43,
   "metadata": {},
   "outputs": [],
   "source": [
    "# Temperatura\n",
    "T5 = 1023.15 #K\n",
    "# Pressão constante no aquecimento\n",
    "P5 = P4"
   ]
  },
  {
   "cell_type": "markdown",
   "metadata": {},
   "source": [
    "Cálculos:"
   ]
  },
  {
   "cell_type": "code",
   "execution_count": 44,
   "metadata": {},
   "outputs": [],
   "source": [
    "# Entalpia\n",
    "h5 = CP.PropsSI('H', 'T', T5, 'P', P5, 'Air') #J/kg\n",
    "# Entropia\n",
    "s5 = CP.PropsSI('S', 'T', T5, 'P', P5, 'Air') #J/kg*K\n",
    "# Volume específico\n",
    "v5 = 1/CP.PropsSI('D', 'T', T5, 'P', P5, 'Air') #m^3/kg"
   ]
  },
  {
   "cell_type": "markdown",
   "metadata": {},
   "source": [
    "#### Estado 6"
   ]
  },
  {
   "cell_type": "markdown",
   "metadata": {},
   "source": [
    "Dados fornecidos:"
   ]
  },
  {
   "cell_type": "code",
   "execution_count": 45,
   "metadata": {},
   "outputs": [],
   "source": [
    "# Parte do ciclo a gás\n",
    "#\n",
    "# Pressão\n",
    "P6 = 1.013*1e5 #Pa\n",
    "m_gas = 450 #Kg/s\n",
    "\n",
    "# Parte do ciclo a vapor\n",
    "#\n",
    "#Vazão mássica\n",
    "m_vapor = 200/2 #Kg/s \n",
    "\n",
    "# Vapor superaquecido\n",
    "# Temperatura\n",
    "T_vapor = 823.15 #K\n",
    "# Pressão\n",
    "P_vapor = 125*1e5 #Pa\n",
    "# Entalpia\n",
    "h_vapor = CP.PropsSI('H', 'T', T_vapor, 'P', P_vapor, 'Water') #J/kg\n",
    "\n",
    "# Água de alimentação\n",
    "# Temperatura\n",
    "T_agua = 303.15 #K\n",
    "# Pressão\n",
    "P_agua = 125*1e5 #Pa\n",
    "# Entalpia\n",
    "h_agua = CP.PropsSI('H', 'T', T_agua, 'P', P_agua, 'Water') #J/kg"
   ]
  },
  {
   "cell_type": "markdown",
   "metadata": {},
   "source": [
    "Calcular o estado 6:"
   ]
  },
  {
   "cell_type": "code",
   "execution_count": 46,
   "metadata": {},
   "outputs": [],
   "source": [
    "# Temos: 0 = m_gas*(h5 - h6) + m_vapor*(h_agua - h_vapor) \n",
    "# h6 = (h5*m_gas + m_vapor*(h_agua - h_vapor))/m_gas\n",
    "# h6 = h5 + (m_vapor*/m_gas)*(h_agua - h_vapor)\n",
    "\n",
    "# Entalpia\n",
    "h6 = h5 - ((m_vapor/m_gas)*(df_2.iloc[0,3]-df_2.iloc[14,3])*1e3) #J/kg\n",
    "# Entropia\n",
    "s6 = CP.PropsSI('S', 'P', P6, 'H', h6, 'Air') #J/kg*K\n",
    "# Temperatura\n",
    "T6 = CP.PropsSI('T', 'P', P6, 'H', h6, 'Air') #K\n",
    "# Volume específico\n",
    "v6 = 1/CP.PropsSI('D', 'P', P6, 'H', P6, 'Air') #m^3/kg"
   ]
  },
  {
   "cell_type": "markdown",
   "metadata": {},
   "source": [
    "## 1.2  Tabela"
   ]
  },
  {
   "cell_type": "markdown",
   "metadata": {},
   "source": [
    "#### Construindo o DataFrame"
   ]
  },
  {
   "cell_type": "code",
   "execution_count": 47,
   "metadata": {},
   "outputs": [],
   "source": [
    "# Pressão de cada estado \n",
    "P_list = np.array([P1, P2, P3, P4, P5, P6]) #Pa\n",
    "P_list = np.apply_along_axis(lambda x: x/1e5, 0, P_list) #Converte para Bar\n",
    "P_list = np.around(P_list, decimals=4)\n",
    "\n",
    "# Temperatura de cada estado\n",
    "T_list = np.array([T1, T2, T3, T4, T5, T6]) #K\n",
    "T_list = np.apply_along_axis(lambda x: x-273.15, 0, T_list) #Converte para •C\n",
    "T_list = np.around(T_list, decimals=4)\n",
    "\n",
    "# Volume específico de cada estado\n",
    "v_list = np.array([v1, v2, v3, v4, v5, v6]) #m^3/kg\n",
    "v_list = np.around(v_list, decimals=4)\n",
    "\n",
    "# Entalpia de cada estado\n",
    "h_list = np.array([h1, h2, h3, h4, h5, h6]) #J/Kg\n",
    "h_list = np.apply_along_axis(lambda x: x*1e-3, 0, h_list) #Converte para KJ/Kg\n",
    "h_list = np.around(h_list, decimals=4)\n",
    "\n",
    "# Entropia de cada estado\n",
    "s_list = np.array([s1, s2, s3, s4, s5, s6]) #J/Kg*K\n",
    "s_list = np.apply_along_axis(lambda x: x*1e-3, 0, s_list) #Converte para KJ/Kg*K\n",
    "s_list = np.around(s_list, decimals=4)\n",
    "\n",
    "# Estados\n",
    "e_list = np.arange(1,7)"
   ]
  },
  {
   "cell_type": "code",
   "execution_count": 48,
   "metadata": {},
   "outputs": [
    {
     "data": {
      "text/html": [
       "<div>\n",
       "<style scoped>\n",
       "    .dataframe tbody tr th:only-of-type {\n",
       "        vertical-align: middle;\n",
       "    }\n",
       "\n",
       "    .dataframe tbody tr th {\n",
       "        vertical-align: top;\n",
       "    }\n",
       "\n",
       "    .dataframe thead th {\n",
       "        text-align: right;\n",
       "    }\n",
       "</style>\n",
       "<table border=\"1\" class=\"dataframe\">\n",
       "  <thead>\n",
       "    <tr style=\"text-align: right;\">\n",
       "      <th></th>\n",
       "      <th>Pressão (Bar)</th>\n",
       "      <th>Temperatura (ºC)</th>\n",
       "      <th>Volume.Específico (m^3/kg)</th>\n",
       "      <th>Entalpia (KJ/Kg)</th>\n",
       "      <th>Entropia (KJ/Kg*K)</th>\n",
       "    </tr>\n",
       "    <tr>\n",
       "      <th>Estado</th>\n",
       "      <th></th>\n",
       "      <th></th>\n",
       "      <th></th>\n",
       "      <th></th>\n",
       "      <th></th>\n",
       "    </tr>\n",
       "  </thead>\n",
       "  <tbody>\n",
       "    <tr>\n",
       "      <th>1</th>\n",
       "      <td>1.013</td>\n",
       "      <td>30.0000</td>\n",
       "      <td>0.8588</td>\n",
       "      <td>429.4681</td>\n",
       "      <td>3.8973</td>\n",
       "    </tr>\n",
       "    <tr>\n",
       "      <th>2</th>\n",
       "      <td>30.000</td>\n",
       "      <td>576.7903</td>\n",
       "      <td>0.0822</td>\n",
       "      <td>1004.7554</td>\n",
       "      <td>3.9964</td>\n",
       "    </tr>\n",
       "    <tr>\n",
       "      <th>3</th>\n",
       "      <td>30.000</td>\n",
       "      <td>1300.0000</td>\n",
       "      <td>0.1515</td>\n",
       "      <td>1853.7792</td>\n",
       "      <td>4.7158</td>\n",
       "    </tr>\n",
       "    <tr>\n",
       "      <th>4</th>\n",
       "      <td>1.013</td>\n",
       "      <td>496.1595</td>\n",
       "      <td>2.1807</td>\n",
       "      <td>914.7972</td>\n",
       "      <td>4.8607</td>\n",
       "    </tr>\n",
       "    <tr>\n",
       "      <th>5</th>\n",
       "      <td>1.013</td>\n",
       "      <td>750.0000</td>\n",
       "      <td>2.9002</td>\n",
       "      <td>1198.9819</td>\n",
       "      <td>5.1796</td>\n",
       "    </tr>\n",
       "    <tr>\n",
       "      <th>6</th>\n",
       "      <td>1.013</td>\n",
       "      <td>141.3583</td>\n",
       "      <td>0.1106</td>\n",
       "      <td>541.9804</td>\n",
       "      <td>4.2133</td>\n",
       "    </tr>\n",
       "  </tbody>\n",
       "</table>\n",
       "</div>"
      ],
      "text/plain": [
       "        Pressão (Bar)  Temperatura (ºC)  Volume.Específico (m^3/kg)  \\\n",
       "Estado                                                                \n",
       "1               1.013           30.0000                      0.8588   \n",
       "2              30.000          576.7903                      0.0822   \n",
       "3              30.000         1300.0000                      0.1515   \n",
       "4               1.013          496.1595                      2.1807   \n",
       "5               1.013          750.0000                      2.9002   \n",
       "6               1.013          141.3583                      0.1106   \n",
       "\n",
       "        Entalpia (KJ/Kg)  Entropia (KJ/Kg*K)  \n",
       "Estado                                        \n",
       "1               429.4681              3.8973  \n",
       "2              1004.7554              3.9964  \n",
       "3              1853.7792              4.7158  \n",
       "4               914.7972              4.8607  \n",
       "5              1198.9819              5.1796  \n",
       "6               541.9804              4.2133  "
      ]
     },
     "execution_count": 48,
     "metadata": {},
     "output_type": "execute_result"
    }
   ],
   "source": [
    "data = {'Pressão (Bar)': P_list, \n",
    "        'Temperatura (ºC)': T_list, \n",
    "        'Volume.Específico (m^3/kg)': v_list,\n",
    "        'Entalpia (KJ/Kg)': h_list,\n",
    "        'Entropia (KJ/Kg*K)': s_list,\n",
    "        'Estado': e_list}\n",
    "\n",
    "df = pd.DataFrame.from_dict(data)\n",
    "df.set_index('Estado')"
   ]
  },
  {
   "cell_type": "markdown",
   "metadata": {},
   "source": [
    "## 1.3 Gráfico Ts"
   ]
  },
  {
   "cell_type": "code",
   "execution_count": 49,
   "metadata": {},
   "outputs": [],
   "source": [
    "def f_iso(s, p, fluid):\n",
    "    return CP.PropsSI('T', 'P', p, 'S', s*1e3, fluid)"
   ]
  },
  {
   "cell_type": "code",
   "execution_count": 50,
   "metadata": {},
   "outputs": [],
   "source": [
    "iso_1 = 1.013*1e5 #bar\n",
    "iso_2 = 30*1e5 #bar\n",
    "\n",
    "x_1 = np.arange(2, 8, 0.2)\n",
    "y_1 = f_iso(x_1, iso_1, 'Air')\n",
    "\n",
    "x_2 = np.arange(2, 8, 0.2)\n",
    "y_2 = f_iso(x_1, iso_2, 'Air')"
   ]
  },
  {
   "cell_type": "code",
   "execution_count": 51,
   "metadata": {},
   "outputs": [
    {
     "data": {
      "image/png": "[encoded data removed]",
      "text/plain": [
       "<Figure size 432x288 with 1 Axes>"
      ]
     },
     "metadata": {
      "needs_background": "light"
     },
     "output_type": "display_data"
    }
   ],
   "source": [
    "# isobáricas\n",
    "plt.plot(x_1, y_1, x_2, y_2)\n",
    "\n",
    "# estados\n",
    "x_range = df.iloc[:,4]\n",
    "y_range = df.iloc[:,1].map(lambda x: x+273.15)\n",
    "# ax.scatter(df_2.iloc[:,4], df_2.iloc[:,1].map(lambda x: x+273.15))\n",
    "\n",
    "for txt, x, y in zip(df.index, x_range, y_range):\n",
    "    plt.scatter(x, y)\n",
    "    plt.annotate(txt+1, [x-0.3, y-0.3])\n",
    "\n",
    "    \n",
    "# conectar os estados\n",
    "\n",
    "plt.show()"
   ]
  },
  {
   "cell_type": "markdown",
   "metadata": {},
   "source": [
    "## 1.4 Vazão mássica"
   ]
  },
  {
   "cell_type": "code",
   "execution_count": 52,
   "metadata": {},
   "outputs": [],
   "source": [
    "m1 = 450 # Kg/s\n",
    "m2 = m3 = m4 = m5 = m6 = m7 = m8 = m1"
   ]
  },
  {
   "cell_type": "markdown",
   "metadata": {},
   "source": [
    "##  1.5 Trabalho"
   ]
  },
  {
   "cell_type": "code",
   "execution_count": 53,
   "metadata": {},
   "outputs": [],
   "source": [
    "# Compressor\n",
    "w_c = (h2-h1)*m1*1e-3 #KW\n",
    "\n",
    "# CB\n",
    "q_cb = (h3-h2)*m2*1e-3 #KW\n",
    "\n",
    "# Turbina a gás\n",
    "w_tg = (h3-h4)*m3*1e-3 #KW\n",
    "\n",
    "# Queima suplementar\n",
    "q_qs = (h5-h4)*m4*1e-3 #KW\n",
    "\n",
    "# Caldeira de recuperação\n",
    "q_cr = (h5-h6)*m5*1e-3 #KW"
   ]
  },
  {
   "cell_type": "markdown",
   "metadata": {},
   "source": [
    "## 3 Rendimentos"
   ]
  },
  {
   "cell_type": "markdown",
   "metadata": {},
   "source": [
    "### Vapor"
   ]
  },
  {
   "cell_type": "code",
   "execution_count": 54,
   "metadata": {},
   "outputs": [
    {
     "name": "stdout",
     "output_type": "stream",
     "text": [
      "0.3675639939284687\n"
     ]
    }
   ],
   "source": [
    "WTV = w_hp1+w_hp2+w_lp1+w_lp2\n",
    "WB = w_b1+w_b2\n",
    "\n",
    "n_vapor = (WTV-WB)/(2*q_cr)\n",
    "print(n_vapor)"
   ]
  },
  {
   "cell_type": "markdown",
   "metadata": {},
   "source": [
    "### Gás"
   ]
  },
  {
   "cell_type": "code",
   "execution_count": 55,
   "metadata": {},
   "outputs": [
    {
     "name": "stdout",
     "output_type": "stream",
     "text": [
      "0.4283680767189788\n"
     ]
    }
   ],
   "source": [
    "n_gas = (w_tg-w_c)/q_cb\n",
    "print(n_gas)"
   ]
  },
  {
   "cell_type": "markdown",
   "metadata": {},
   "source": [
    "### Combinado"
   ]
  },
  {
   "cell_type": "code",
   "execution_count": 56,
   "metadata": {},
   "outputs": [
    {
     "name": "stdout",
     "output_type": "stream",
     "text": [
      "0.5340453825087162\n"
     ]
    }
   ],
   "source": [
    "n_comb = (WTV+(2*w_tg)-WB-(2*w_c))/(2*(q_cb+q_qs))\n",
    "print(n_comb)"
   ]
  }
 ],
 "metadata": {
  "kernelspec": {
   "display_name": "Python 3",
   "language": "python",
   "name": "python3"
  },
  "language_info": {
   "codemirror_mode": {
    "name": "ipython",
    "version": 3
   },
   "file_extension": ".py",
   "mimetype": "text/x-python",
   "name": "python",
   "nbconvert_exporter": "python",
   "pygments_lexer": "ipython3",
   "version": "3.7.0"
  }
 },
 "nbformat": 4,
 "nbformat_minor": 2
}
